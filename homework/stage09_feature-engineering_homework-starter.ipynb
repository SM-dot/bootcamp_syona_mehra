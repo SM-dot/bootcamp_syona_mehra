{
 "cells": [
  {
   "cell_type": "markdown",
   "id": "c4e923e9",
   "metadata": {},
   "source": [
    "# Stage 09 — Homework Starter Notebook\n",
    "\n",
    "In the lecture, we learned how to create engineered features. Now it’s your turn to apply those ideas to your own project data."
   ]
  },
  {
   "cell_type": "code",
   "execution_count": 1,
   "id": "dad89355",
   "metadata": {},
   "outputs": [
    {
     "data": {
      "text/html": [
       "<div>\n",
       "<style scoped>\n",
       "    .dataframe tbody tr th:only-of-type {\n",
       "        vertical-align: middle;\n",
       "    }\n",
       "\n",
       "    .dataframe tbody tr th {\n",
       "        vertical-align: top;\n",
       "    }\n",
       "\n",
       "    .dataframe thead th {\n",
       "        text-align: right;\n",
       "    }\n",
       "</style>\n",
       "<table border=\"1\" class=\"dataframe\">\n",
       "  <thead>\n",
       "    <tr style=\"text-align: right;\">\n",
       "      <th></th>\n",
       "      <th>income</th>\n",
       "      <th>monthly_spend</th>\n",
       "      <th>credit_score</th>\n",
       "    </tr>\n",
       "  </thead>\n",
       "  <tbody>\n",
       "    <tr>\n",
       "      <th>0</th>\n",
       "      <td>86460</td>\n",
       "      <td>3129</td>\n",
       "      <td>661</td>\n",
       "    </tr>\n",
       "    <tr>\n",
       "      <th>1</th>\n",
       "      <td>66002</td>\n",
       "      <td>1191</td>\n",
       "      <td>668</td>\n",
       "    </tr>\n",
       "    <tr>\n",
       "      <th>2</th>\n",
       "      <td>74681</td>\n",
       "      <td>1237</td>\n",
       "      <td>734</td>\n",
       "    </tr>\n",
       "    <tr>\n",
       "      <th>3</th>\n",
       "      <td>93613</td>\n",
       "      <td>2581</td>\n",
       "      <td>712</td>\n",
       "    </tr>\n",
       "    <tr>\n",
       "      <th>4</th>\n",
       "      <td>88013</td>\n",
       "      <td>1296</td>\n",
       "      <td>712</td>\n",
       "    </tr>\n",
       "  </tbody>\n",
       "</table>\n",
       "</div>"
      ],
      "text/plain": [
       "   income  monthly_spend  credit_score\n",
       "0   86460           3129           661\n",
       "1   66002           1191           668\n",
       "2   74681           1237           734\n",
       "3   93613           2581           712\n",
       "4   88013           1296           712"
      ]
     },
     "execution_count": 1,
     "metadata": {},
     "output_type": "execute_result"
    }
   ],
   "source": [
    "import pandas as pd\n",
    "import numpy as np\n",
    "\n",
    "# Example synthetic data (replace with your project dataset)\n",
    "np.random.seed(0)\n",
    "n = 100\n",
    "df = pd.DataFrame({\n",
    "    'income': np.random.normal(60000, 15000, n).astype(int),\n",
    "    'monthly_spend': np.random.normal(2000, 600, n).astype(int),\n",
    "    'credit_score': np.random.normal(680, 50, n).astype(int)\n",
    "})\n",
    "df.head()"
   ]
  },
  {
   "cell_type": "markdown",
   "id": "8af24d20",
   "metadata": {},
   "source": [
    "## TODO: Implement at least 2 engineered features here"
   ]
  },
  {
   "cell_type": "code",
   "execution_count": 5,
   "id": "7ddd925f",
   "metadata": {},
   "outputs": [
    {
     "name": "stdout",
     "output_type": "stream",
     "text": [
      "Index(['income', 'monthly_spend', 'credit_score', 'spend_income_ratio',\n",
      "       'credit_utilization_proxy', 'income_bin'],\n",
      "      dtype='object')\n",
      "0     0.473374\n",
      "1     0.178293\n",
      "2     0.168529\n",
      "3     0.362500\n",
      "4     0.182022\n",
      "        ...   \n",
      "95    0.257745\n",
      "96    0.360088\n",
      "97    0.351763\n",
      "98    0.499545\n",
      "99    0.401289\n",
      "Name: credit_utilization_proxy, Length: 100, dtype: float64\n",
      "0     Very High\n",
      "1          High\n",
      "2          High\n",
      "3     Very High\n",
      "4     Very High\n",
      "        ...    \n",
      "95         High\n",
      "96         High\n",
      "97    Very High\n",
      "98         High\n",
      "99         High\n",
      "Name: income_bin, Length: 100, dtype: category\n",
      "Categories (4, object): ['Low' < 'Medium' < 'High' < 'Very High']\n",
      "   income  monthly_spend  credit_score  spend_income_ratio  \\\n",
      "0   86460           3129           661            0.036190   \n",
      "1   66002           1191           668            0.018045   \n",
      "2   74681           1237           734            0.016564   \n",
      "3   93613           2581           712            0.027571   \n",
      "4   88013           1296           712            0.014725   \n",
      "\n",
      "   credit_utilization_proxy income_bin  \n",
      "0                  0.473374  Very High  \n",
      "1                  0.178293       High  \n",
      "2                  0.168529       High  \n",
      "3                  0.362500  Very High  \n",
      "4                  0.182022  Very High  \n"
     ]
    },
    {
     "data": {
      "text/plain": [
       "'\\nThis code uses pd.cut() to transform the continuous income column into a categorical one. The bins list defines the boundaries for\\nthe income brackets, and the labels list provides a descriptive name for each category. right=False ensures that the bin is left-inclusive.\\n'"
      ]
     },
     "execution_count": 5,
     "metadata": {},
     "output_type": "execute_result"
    }
   ],
   "source": [
    "# Example template:\n",
    "df['spend_income_ratio'] = df['monthly_spend'] / df['income']  # TODO: Your feature\n",
    "# Add rationale in markdown below\n",
    "# NEW FEATURE 1: \n",
    "df['credit_utilization_proxy'] = df['monthly_spend'] / (df['credit_score'] * 10)\n",
    "print(df.columns)\n",
    "print(df['credit_utilization_proxy'])\n",
    "\n",
    "\n",
    "# NEW FEATURE 2: \n",
    "# Define income bins and labels\n",
    "bins = [0, 40000, 60000, 80000, np.inf]\n",
    "labels = ['Low', 'Medium', 'High', 'Very High']\n",
    "\n",
    "# Create the new categorical feature\n",
    "df['income_bin'] = pd.cut(df['income'], bins=bins, labels=labels, right=False)\n",
    "print(df['income_bin'])\n",
    "\n",
    "print(df.head())\n",
    "pd.set_option('display.max_columns', None)\n",
    "\n",
    "# Notes - pls ignore for grading:\n",
    "'''\n",
    "This code uses pd.cut() to transform the continuous income column into a categorical one. The bins list defines the boundaries for\n",
    "the income brackets, and the labels list provides a descriptive name for each category. right=False ensures that the bin is left-inclusive.\n",
    "'''"
   ]
  },
  {
   "cell_type": "markdown",
   "id": "d4d6a54a",
   "metadata": {},
   "source": [
    "### Rationale for Feature 1\n",
    "Explain why this feature may help a model. Reference your EDA."
   ]
  },
  {
   "cell_type": "markdown",
   "id": "f082cbc5-bb41-4f7e-883b-e5639d35c1e2",
   "metadata": {},
   "source": [
    "## df['credit_utilization_proxy'] = df['monthly_spend'] / (df['credit_score'] * 10)\n",
    "A high credit score and low monthly_spend could be a sign of a very financially disciplined individual. \n",
    "Conversely, a high monthly_spend might indicate high credit card utilization, which is a key factor in credit scores. \n",
    "Creating a new feature that reflects this relationship could give a model a more direct signal of credit-related behavior of an individual \n",
    "which could be insightful for further analysis. \n",
    "\n",
    "Example: df['rolling_spend_mean'] = df['monthly_spend'].rolling(3).mean()"
   ]
  },
  {
   "cell_type": "markdown",
   "id": "8123153c",
   "metadata": {},
   "source": [
    "### Rationale for Feature 2\n",
    "## df['income_bin'] = pd.cut(df['income'], bins=bins, labels=labels, right=False)\n",
    "Explain why this feature may help a model. Reference your EDA.\n",
    "Even though current synthetic data is normally distributed, real-world income data is almost always highly skewed. Creating bins can help simplify the relationship for the model and make it more robust against outliers, which was noted in previous EDA. It allows a model to learn how different income brackets, rather than specific dollar amounts, relate to other variables."
   ]
  },
  {
   "cell_type": "code",
   "execution_count": null,
   "id": "5555f331-0165-423b-a385-f4472a356c28",
   "metadata": {},
   "outputs": [],
   "source": []
  }
 ],
 "metadata": {
  "kernelspec": {
   "display_name": "Python [conda env:nyu-mfe-bootcamp]",
   "language": "python",
   "name": "conda-env-nyu-mfe-bootcamp-py"
  },
  "language_info": {
   "codemirror_mode": {
    "name": "ipython",
    "version": 3
   },
   "file_extension": ".py",
   "mimetype": "text/x-python",
   "name": "python",
   "nbconvert_exporter": "python",
   "pygments_lexer": "ipython3",
   "version": "3.13.5"
  }
 },
 "nbformat": 4,
 "nbformat_minor": 5
}
