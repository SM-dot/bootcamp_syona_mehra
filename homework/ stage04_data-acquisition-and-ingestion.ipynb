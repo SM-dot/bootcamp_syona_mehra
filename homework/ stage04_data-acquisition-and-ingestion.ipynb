{
 "cells": [
  {
   "cell_type": "markdown",
   "id": "5ee7aa14",
   "metadata": {},
   "source": [
    "# Homework Starter — Stage 04: Data Acquisition and Ingestion\n",
    "Name: Syonaa Mehra\n",
    "Date: August 18th, 2025 \n",
    "\n",
    "## Objectives\n",
    "- API ingestion with secrets in `.env`\n",
    "- Scrape a permitted public table\n",
    "- Validate and save raw data to `data/raw/`"
   ]
  },
  {
   "cell_type": "code",
   "execution_count": 1,
   "id": "92eae400",
   "metadata": {},
   "outputs": [
    {
     "name": "stdout",
     "output_type": "stream",
     "text": [
      "ALPHAVANTAGE_API_KEY loaded? True\n"
     ]
    }
   ],
   "source": [
    "import os, pathlib, datetime as dt\n",
    "import requests\n",
    "import pandas as pd\n",
    "from bs4 import BeautifulSoup\n",
    "from dotenv import load_dotenv\n",
    "\n",
    "RAW = pathlib.Path('data/raw'); RAW.mkdir(parents=True, exist_ok=True)\n",
    "load_dotenv(); print('ALPHAVANTAGE_API_KEY loaded?', bool(os.getenv('ALPHAVANTAGE_API_KEY')))"
   ]
  },
  {
   "cell_type": "markdown",
   "id": "c2b2e18e",
   "metadata": {},
   "source": [
    "## Helpers (use or modify)"
   ]
  },
  {
   "cell_type": "code",
   "execution_count": 2,
   "id": "18bd467c",
   "metadata": {},
   "outputs": [],
   "source": [
    "def ts():\n",
    "    return dt.datetime.now().strftime('%Y%m%d-%H%M%S')\n",
    "\n",
    "def save_csv(df: pd.DataFrame, prefix: str, **meta):\n",
    "    mid = '_'.join([f\"{k}-{v}\" for k,v in meta.items()])\n",
    "    path = RAW / f\"{prefix}_{mid}_{ts()}.csv\"\n",
    "    df.to_csv(path, index=False)\n",
    "    print('Saved', path)\n",
    "    return path\n",
    "\n",
    "def validate(df: pd.DataFrame, required):\n",
    "    missing = [c for c in required if c not in df.columns]\n",
    "    return {'missing': missing, 'shape': df.shape, 'na_total': int(df.isna().sum().sum())}"
   ]
  },
  {
   "cell_type": "markdown",
   "id": "cfb53164",
   "metadata": {},
   "source": [
    "## Part 1 — API Pull (Required)\n",
    "Choose an endpoint (e.g., Alpha Vantage or use `yfinance` fallback)."
   ]
  },
  {
   "cell_type": "code",
   "execution_count": 3,
   "id": "898a5da5-dcf8-47ab-b4b0-0123b501d13e",
   "metadata": {},
   "outputs": [
    {
     "name": "stdout",
     "output_type": "stream",
     "text": [
      "Requirement already satisfied: yfinance in /opt/anaconda3/envs/nyu-mfe-bootcamp/lib/python3.13/site-packages (0.2.65)\n",
      "Requirement already satisfied: pandas>=1.3.0 in /opt/anaconda3/envs/nyu-mfe-bootcamp/lib/python3.13/site-packages (from yfinance) (2.3.1)\n",
      "Requirement already satisfied: numpy>=1.16.5 in /opt/anaconda3/envs/nyu-mfe-bootcamp/lib/python3.13/site-packages (from yfinance) (2.3.1)\n",
      "Requirement already satisfied: requests>=2.31 in /opt/anaconda3/envs/nyu-mfe-bootcamp/lib/python3.13/site-packages (from yfinance) (2.32.4)\n",
      "Requirement already satisfied: multitasking>=0.0.7 in /opt/anaconda3/envs/nyu-mfe-bootcamp/lib/python3.13/site-packages (from yfinance) (0.0.12)\n",
      "Requirement already satisfied: platformdirs>=2.0.0 in /opt/anaconda3/envs/nyu-mfe-bootcamp/lib/python3.13/site-packages (from yfinance) (4.3.8)\n",
      "Requirement already satisfied: pytz>=2022.5 in /opt/anaconda3/envs/nyu-mfe-bootcamp/lib/python3.13/site-packages (from yfinance) (2025.2)\n",
      "Requirement already satisfied: frozendict>=2.3.4 in /opt/anaconda3/envs/nyu-mfe-bootcamp/lib/python3.13/site-packages (from yfinance) (2.4.6)\n",
      "Requirement already satisfied: peewee>=3.16.2 in /opt/anaconda3/envs/nyu-mfe-bootcamp/lib/python3.13/site-packages (from yfinance) (3.18.2)\n",
      "Requirement already satisfied: beautifulsoup4>=4.11.1 in /opt/anaconda3/envs/nyu-mfe-bootcamp/lib/python3.13/site-packages (from yfinance) (4.13.4)\n",
      "Requirement already satisfied: curl_cffi>=0.7 in /opt/anaconda3/envs/nyu-mfe-bootcamp/lib/python3.13/site-packages (from yfinance) (0.13.0)\n",
      "Requirement already satisfied: protobuf>=3.19.0 in /opt/anaconda3/envs/nyu-mfe-bootcamp/lib/python3.13/site-packages (from yfinance) (6.32.0)\n",
      "Requirement already satisfied: websockets>=13.0 in /opt/anaconda3/envs/nyu-mfe-bootcamp/lib/python3.13/site-packages (from yfinance) (15.0.1)\n",
      "Requirement already satisfied: soupsieve>1.2 in /opt/anaconda3/envs/nyu-mfe-bootcamp/lib/python3.13/site-packages (from beautifulsoup4>=4.11.1->yfinance) (2.7)\n",
      "Requirement already satisfied: typing-extensions>=4.0.0 in /opt/anaconda3/envs/nyu-mfe-bootcamp/lib/python3.13/site-packages (from beautifulsoup4>=4.11.1->yfinance) (4.14.1)\n",
      "Requirement already satisfied: cffi>=1.12.0 in /opt/anaconda3/envs/nyu-mfe-bootcamp/lib/python3.13/site-packages (from curl_cffi>=0.7->yfinance) (1.17.1)\n",
      "Requirement already satisfied: certifi>=2024.2.2 in /opt/anaconda3/envs/nyu-mfe-bootcamp/lib/python3.13/site-packages (from curl_cffi>=0.7->yfinance) (2025.8.3)\n",
      "Requirement already satisfied: pycparser in /opt/anaconda3/envs/nyu-mfe-bootcamp/lib/python3.13/site-packages (from cffi>=1.12.0->curl_cffi>=0.7->yfinance) (2.22)\n",
      "Requirement already satisfied: python-dateutil>=2.8.2 in /opt/anaconda3/envs/nyu-mfe-bootcamp/lib/python3.13/site-packages (from pandas>=1.3.0->yfinance) (2.9.0.post0)\n",
      "Requirement already satisfied: tzdata>=2022.7 in /opt/anaconda3/envs/nyu-mfe-bootcamp/lib/python3.13/site-packages (from pandas>=1.3.0->yfinance) (2025.2)\n",
      "Requirement already satisfied: six>=1.5 in /opt/anaconda3/envs/nyu-mfe-bootcamp/lib/python3.13/site-packages (from python-dateutil>=2.8.2->pandas>=1.3.0->yfinance) (1.17.0)\n",
      "Requirement already satisfied: charset_normalizer<4,>=2 in /opt/anaconda3/envs/nyu-mfe-bootcamp/lib/python3.13/site-packages (from requests>=2.31->yfinance) (3.4.3)\n",
      "Requirement already satisfied: idna<4,>=2.5 in /opt/anaconda3/envs/nyu-mfe-bootcamp/lib/python3.13/site-packages (from requests>=2.31->yfinance) (3.10)\n",
      "Requirement already satisfied: urllib3<3,>=1.21.1 in /opt/anaconda3/envs/nyu-mfe-bootcamp/lib/python3.13/site-packages (from requests>=2.31->yfinance) (2.5.0)\n"
     ]
    }
   ],
   "source": [
    "!pip install yfinance\n",
    "import yfinance as yf"
   ]
  },
  {
   "cell_type": "markdown",
   "id": "bcfc518e-9a62-449a-bbdf-d6a92c62fb80",
   "metadata": {},
   "source": [
    "API NOT WORKING -> PAID KEY"
   ]
  },
  {
   "cell_type": "code",
   "execution_count": null,
   "id": "2fb1eba1",
   "metadata": {},
   "outputs": [],
   "source": [
    "SYMBOL = 'AAPL'\n",
    "USE_ALPHA = bool(os.getenv('ALPHAVANTAGE_API_KEY'))\n",
    "if USE_ALPHA:\n",
    "    url = 'https://www.alphavantage.co/query'\n",
    "    params = {'function':'TIME_SERIES_DAILY_ADJUSTED','symbol':SYMBOL,'outputsize':'compact','apikey':os.getenv('ALPHAVANTAGE_API_KEY')}\n",
    "    r = requests.get(url, params=params, timeout=30)\n",
    "    r.raise_for_status()\n",
    "    js = r.json()\n",
    "    key = [k for k in js if 'Time Series' in k][0]\n",
    "    df_api = pd.DataFrame(js[key]).T.reset_index().rename(columns={'index':'date','5. adjusted close':'adj_close'})[['date','adj_close']]\n",
    "    df_api['date'] = pd.to_datetime(df_api['date']); df_api['adj_close'] = pd.to_numeric(df_api['adj_close'])\n",
    "else:\n",
    "    import yfinance as yf\n",
    "    df_api = yf.download(SYMBOL, period='3mo', interval='1d').reset_index()[['Date','Adj Close']]\n",
    "    df_api.columns = ['date','adj_close']\n",
    "\n",
    "v_api = validate(df_api, ['date','adj_close']); v_api"
   ]
  },
  {
   "cell_type": "code",
   "execution_count": null,
   "id": "5b131a46",
   "metadata": {},
   "outputs": [],
   "source": [
    "_ = save_csv(df_api.sort_values('date'), prefix='api', source='alpha' if USE_ALPHA else 'yfinance', symbol=SYMBOL)"
   ]
  },
  {
   "cell_type": "markdown",
   "id": "57ddbc16-6846-42f1-b9aa-5a66cff6b32b",
   "metadata": {},
   "source": [
    "USING YFINANCE INSTEAD"
   ]
  },
  {
   "cell_type": "code",
   "execution_count": 4,
   "id": "7b4ea145-018b-49d1-a317-b1726c70d8d7",
   "metadata": {},
   "outputs": [
    {
     "name": "stderr",
     "output_type": "stream",
     "text": [
      "[*********************100%***********************]  1 of 1 completed\n"
     ]
    },
    {
     "data": {
      "text/html": [
       "<div>\n",
       "<style scoped>\n",
       "    .dataframe tbody tr th:only-of-type {\n",
       "        vertical-align: middle;\n",
       "    }\n",
       "\n",
       "    .dataframe tbody tr th {\n",
       "        vertical-align: top;\n",
       "    }\n",
       "\n",
       "    .dataframe thead th {\n",
       "        text-align: right;\n",
       "    }\n",
       "</style>\n",
       "<table border=\"1\" class=\"dataframe\">\n",
       "  <thead>\n",
       "    <tr style=\"text-align: right;\">\n",
       "      <th></th>\n",
       "      <th>date</th>\n",
       "      <th>adj_close</th>\n",
       "    </tr>\n",
       "  </thead>\n",
       "  <tbody>\n",
       "    <tr>\n",
       "      <th>0</th>\n",
       "      <td>2025-05-20</td>\n",
       "      <td>206.625504</td>\n",
       "    </tr>\n",
       "    <tr>\n",
       "      <th>1</th>\n",
       "      <td>2025-05-21</td>\n",
       "      <td>201.860901</td>\n",
       "    </tr>\n",
       "    <tr>\n",
       "      <th>2</th>\n",
       "      <td>2025-05-22</td>\n",
       "      <td>201.131729</td>\n",
       "    </tr>\n",
       "    <tr>\n",
       "      <th>3</th>\n",
       "      <td>2025-05-23</td>\n",
       "      <td>195.048645</td>\n",
       "    </tr>\n",
       "    <tr>\n",
       "      <th>4</th>\n",
       "      <td>2025-05-27</td>\n",
       "      <td>199.983047</td>\n",
       "    </tr>\n",
       "  </tbody>\n",
       "</table>\n",
       "</div>"
      ],
      "text/plain": [
       "        date   adj_close\n",
       "0 2025-05-20  206.625504\n",
       "1 2025-05-21  201.860901\n",
       "2 2025-05-22  201.131729\n",
       "3 2025-05-23  195.048645\n",
       "4 2025-05-27  199.983047"
      ]
     },
     "execution_count": 4,
     "metadata": {},
     "output_type": "execute_result"
    }
   ],
   "source": [
    "import pandas as pd\n",
    "import yfinance as yf\n",
    "\n",
    "SYMBOL = 'AAPL'\n",
    "\n",
    "df_api = yf.download(SYMBOL, period='3mo', interval='1d', auto_adjust=False).reset_index()\n",
    "\n",
    "if 'Adj Close' in df_api.columns:\n",
    "    df_api = df_api[['Date', 'Adj Close']]\n",
    "    df_api.columns = ['date', 'adj_close']\n",
    "elif 'Close' in df_api.columns:\n",
    "    df_api = df_api[['Date', 'Close']]\n",
    "    df_api.columns = ['date', 'adj_close']\n",
    "else:\n",
    "    raise ValueError(\"Expected 'Adj Close' or 'Close' in yfinance output\")\n",
    "\n",
    "df_api['date'] = pd.to_datetime(df_api['date'])\n",
    "df_api['adj_close'] = pd.to_numeric(df_api['adj_close'])\n",
    "\n",
    "# Preview\n",
    "df_api.head()\n",
    "\n"
   ]
  },
  {
   "cell_type": "markdown",
   "id": "4b9503e6",
   "metadata": {},
   "source": [
    "## Part 2 — Scrape a Public Table (Required)\n",
    "Replace `SCRAPE_URL` with a permitted page containing a simple table."
   ]
  },
  {
   "cell_type": "code",
   "execution_count": 12,
   "id": "4281e32d",
   "metadata": {},
   "outputs": [
    {
     "data": {
      "text/plain": [
       "{'missing': [], 'shape': (269, 4), 'na_total': 0}"
      ]
     },
     "execution_count": 12,
     "metadata": {},
     "output_type": "execute_result"
    }
   ],
   "source": [
    "SCRAPE_URL = 'https://www.iban.com/currency-codes'\n",
    "headers = {'User-Agent': 'AFE-Homework/1.0'}\n",
    "\n",
    "try:\n",
    "    resp = requests.get(SCRAPE_URL, headers=headers, timeout=30); resp.raise_for_status()\n",
    "    soup = BeautifulSoup(resp.text, 'html.parser')\n",
    "    rows = [[c.get_text(strip=True) for c in tr.find_all(['th','td'])] for tr in soup.find_all('tr')]\n",
    "    header, *data = [r for r in rows if r]\n",
    "    df_scrape = pd.DataFrame(data, columns=header)\n",
    "except Exception as e:\n",
    "    print('Scrape failed, using inline demo table:', e)\n",
    "    html = '<table><tr><th>Ticker</th><th>Price</th></tr><tr><td>AAA</td><td>101.2</td></tr></table>'\n",
    "    soup = BeautifulSoup(html, 'html.parser')\n",
    "    rows = [[c.get_text(strip=True) for c in tr.find_all(['th','td'])] for tr in soup.find_all('tr')]\n",
    "    header, *data = [r for r in rows if r]\n",
    "    df_scrape = pd.DataFrame(data, columns=header)\n",
    "\n",
    "if 'Price' in df_scrape.columns:\n",
    "    df_scrape['Price'] = pd.to_numeric(df_scrape['Price'], errors='coerce')\n",
    "v_scrape = validate(df_scrape, list(df_scrape.columns)); v_scrape"
   ]
  },
  {
   "cell_type": "code",
   "execution_count": 13,
   "id": "60b7426e",
   "metadata": {},
   "outputs": [
    {
     "name": "stdout",
     "output_type": "stream",
     "text": [
      "Saved data/raw/scrape_site-example_table-markets_20250819-235203.csv\n"
     ]
    }
   ],
   "source": [
    "_ = save_csv(df_scrape, prefix='scrape', site='example', table='markets')"
   ]
  },
  {
   "cell_type": "markdown",
   "id": "af377901",
   "metadata": {},
   "source": [
    "## Documentation\n",
    "- API Source: (URL/endpoint/params)\n",
    "- Scrape Source: (URL/table description)\n",
    "- Assumptions & risks: (rate limits, selector fragility, schema changes)\n",
    "- Confirm `.env` is not committed."
   ]
  },
  {
   "cell_type": "markdown",
   "id": "a67a6e7c-2045-49af-a3b3-d220d8578971",
   "metadata": {},
   "source": [
    "**API Source**:  \n",
    "- Endpoint: yfinance (Python library)  \n",
    "- Symbol: 'AAPL'  \n",
    "- Period: last 3 months  \n",
    "- Interval: 1 day  \n",
    "- Notes: Using `yfinance.download()` as a fallback instead of Alpha Vantage API."
   ]
  },
  {
   "cell_type": "markdown",
   "id": "0c1b44a1-14d1-481e-8625-f14b851a2905",
   "metadata": {},
   "source": [
    "**Scrape Source**:  \n",
    "- URL: Inline demo table (or your chosen public table)  \n",
    "- Table description: A simple market table with columns `Ticker` and `Price`  \n",
    "- Extraction method: `requests.get()` + `BeautifulSoup` parsing `tr > th/td`"
   ]
  },
  {
   "cell_type": "markdown",
   "id": "9708466b-a311-4337-873c-12dca3824744",
   "metadata": {},
   "source": [
    "**Assumptions & Risks**:  \n",
    "- API rate limits: yfinance has limits; Alpha Vantage has 5 requests/min free tier.  \n",
    "- Selector fragility: If website table HTML changes, scraping may fail.  \n",
    "- Schema changes: Column names may change (e.g., 'Adj Close' renamed), requiring code updates.  \n",
    "- Fallbacks: Inline demo table ensures reproducibility if scraping fails."
   ]
  },
  {
   "cell_type": "markdown",
   "id": "0322d436-1c43-409e-952c-949ff55dbca4",
   "metadata": {},
   "source": [
    "**Secrets Management**:  \n",
    "- `.env` contains only dummy keys (`dummy_key_123`)  \n",
    "- `.gitignore` includes `.env` to prevent committing secrets.  \n",
    "- Notebook loads keys with `python-dotenv` for reproducibility.\n"
   ]
  },
  {
   "cell_type": "code",
   "execution_count": null,
   "id": "48569f7b-6291-4570-9932-cd175924135f",
   "metadata": {},
   "outputs": [],
   "source": []
  }
 ],
 "metadata": {
  "kernelspec": {
   "display_name": "Python [conda env:nyu-mfe-bootcamp]",
   "language": "python",
   "name": "conda-env-nyu-mfe-bootcamp-py"
  },
  "language_info": {
   "codemirror_mode": {
    "name": "ipython",
    "version": 3
   },
   "file_extension": ".py",
   "mimetype": "text/x-python",
   "name": "python",
   "nbconvert_exporter": "python",
   "pygments_lexer": "ipython3",
   "version": "3.13.5"
  }
 },
 "nbformat": 4,
 "nbformat_minor": 5
}
