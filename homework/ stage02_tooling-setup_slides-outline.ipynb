{
 "cells": [
  {
   "cell_type": "markdown",
   "id": "ec8ebbd3-ff6b-42c6-b338-1a1159cfb3ff",
   "metadata": {},
   "source": [
    "# STAGE 2: TOOLING AND SETUP AGAIN"
   ]
  },
  {
   "cell_type": "code",
   "execution_count": 1,
   "id": "e48f5803-edcd-4c09-b596-3175a97979d5",
   "metadata": {},
   "outputs": [
    {
     "name": "stdout",
     "output_type": "stream",
     "text": [
      "Added to sys.path: /Users/syonamehra/Documents/NYU Classes/MFE Bootcamp/Machine Learning Bootcamp In Person/project\n"
     ]
    }
   ],
   "source": [
    "import sys\n",
    "import os\n",
    "\n",
    "# Absolute path to the project folder\n",
    "project_path = os.path.abspath(os.path.join(\"..\", \"..\", \"project\"))  # goes up two levels then into project\n",
    "sys.path.insert(0, project_path)\n",
    "\n",
    "print(\"Added to sys.path:\", project_path)\n"
   ]
  },
  {
   "cell_type": "markdown",
   "id": "14a61dfa-4b08-4894-b61b-cecf6bb1af2c",
   "metadata": {},
   "source": [
    "The above solution did not work in Python, needed to move the src folder to hoemwork"
   ]
  },
  {
   "cell_type": "code",
   "execution_count": 2,
   "id": "ed0fc17c-ecaa-4dde-8cd7-29441f96f29a",
   "metadata": {},
   "outputs": [
    {
     "name": "stdout",
     "output_type": "stream",
     "text": [
      "Environment variables loaded.\n",
      "API_KEY present: True\n"
     ]
    }
   ],
   "source": [
    "from src.config import load_env, get_key\n",
    "\n",
    "load_env()\n",
    "print(\"API_KEY present:\", get_key(\"API_KEY\") is not None)\n"
   ]
  },
  {
   "cell_type": "code",
   "execution_count": 3,
   "id": "8498e41f-4dc6-4387-ae11-dd35df32f454",
   "metadata": {},
   "outputs": [
    {
     "name": "stdout",
     "output_type": "stream",
     "text": [
      "Successfully completed check\n"
     ]
    }
   ],
   "source": [
    "print(\"Successfully completed check\")"
   ]
  },
  {
   "cell_type": "code",
   "execution_count": null,
   "id": "3cecbf6f-b5a0-421a-8feb-e0799e0ecd9c",
   "metadata": {},
   "outputs": [],
   "source": []
  }
 ],
 "metadata": {
  "kernelspec": {
   "display_name": "Python [conda env:nyu-mfe-bootcamp]",
   "language": "python",
   "name": "conda-env-nyu-mfe-bootcamp-py"
  },
  "language_info": {
   "codemirror_mode": {
    "name": "ipython",
    "version": 3
   },
   "file_extension": ".py",
   "mimetype": "text/x-python",
   "name": "python",
   "nbconvert_exporter": "python",
   "pygments_lexer": "ipython3",
   "version": "3.13.5"
  }
 },
 "nbformat": 4,
 "nbformat_minor": 5
}
