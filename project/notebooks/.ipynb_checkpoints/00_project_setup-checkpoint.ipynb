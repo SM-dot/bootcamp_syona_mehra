{
 "cells": [
  {
   "cell_type": "code",
   "execution_count": null,
   "id": "b587b3a9-cfea-4d08-bf2f-bb4c102fa3b6",
   "metadata": {},
   "outputs": [],
   "source": [
    "## Environment & Config Check"
   ]
  }
 ],
 "metadata": {
  "kernelspec": {
   "display_name": "Python [conda env:nyu-mfe-bootcamp]",
   "language": "python",
   "name": "conda-env-nyu-mfe-bootcamp-py"
  },
  "language_info": {
   "codemirror_mode": {
    "name": "ipython",
    "version": 3
   },
   "file_extension": ".py",
   "mimetype": "text/x-python",
   "name": "python",
   "nbconvert_exporter": "python",
   "pygments_lexer": "ipython3",
   "version": "3.13.5"
  }
 },
 "nbformat": 4,
 "nbformat_minor": 5
}
