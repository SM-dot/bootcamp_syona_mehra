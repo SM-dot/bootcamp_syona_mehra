{
 "cells": [
  {
   "cell_type": "markdown",
   "id": "3779dcc6-edb9-4e21-8b09-9b53480bd029",
   "metadata": {},
   "source": [
    "## Environment & Config Check"
   ]
  },
  {
   "cell_type": "code",
   "execution_count": 6,
   "id": "9130a906-4433-4a8f-ae4d-f61e55ccedcd",
   "metadata": {},
   "outputs": [],
   "source": [
    "from dotenv import load_dotenv\n",
    "import os"
   ]
  },
  {
   "cell_type": "code",
   "execution_count": 7,
   "id": "975f3960-9e37-4bb6-bdc6-694743b2fbfb",
   "metadata": {},
   "outputs": [
    {
     "data": {
      "text/plain": [
       "True"
      ]
     },
     "execution_count": 7,
     "metadata": {},
     "output_type": "execute_result"
    }
   ],
   "source": [
    "load_dotenv()"
   ]
  },
  {
   "cell_type": "code",
   "execution_count": 8,
   "id": "f38ba634-1d57-45e2-a9e6-7ddb74f1f419",
   "metadata": {},
   "outputs": [
    {
     "name": "stdout",
     "output_type": "stream",
     "text": [
      "API_KEY exists!\n"
     ]
    }
   ],
   "source": [
    "# Checking if the API_KEY exists\n",
    "api_key = os.getenv(\"API_KEY\")\n",
    "\n",
    "if api_key:\n",
    "    print(\"API_KEY exists!\")\n",
    "else:\n",
    "    print(\"API_KEY not found.\")\n"
   ]
  },
  {
   "cell_type": "code",
   "execution_count": null,
   "id": "a223fe26-4861-435f-8abf-64ae48064198",
   "metadata": {},
   "outputs": [],
   "source": []
  }
 ],
 "metadata": {
  "kernelspec": {
   "display_name": "Python [conda env:nyu-mfe-bootcamp]",
   "language": "python",
   "name": "conda-env-nyu-mfe-bootcamp-py"
  },
  "language_info": {
   "codemirror_mode": {
    "name": "ipython",
    "version": 3
   },
   "file_extension": ".py",
   "mimetype": "text/x-python",
   "name": "python",
   "nbconvert_exporter": "python",
   "pygments_lexer": "ipython3",
   "version": "3.13.5"
  }
 },
 "nbformat": 4,
 "nbformat_minor": 5
}
