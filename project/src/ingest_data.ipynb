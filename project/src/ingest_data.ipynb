{
 "cells": [
  {
   "cell_type": "code",
   "execution_count": 2,
   "id": "9863e11d-9618-4942-a05c-34da8bd38ab2",
   "metadata": {},
   "outputs": [
    {
     "name": "stderr",
     "output_type": "stream",
     "text": [
      "/var/folders/q1/f1_13wdx2nj7w89w802rj1l40000gn/T/ipykernel_42105/2863369361.py:25: FutureWarning: YF.download() has changed argument auto_adjust default to True\n",
      "  historical_data_multi = yf.download(tickers=top_stocks, start=start_date, end=end_date)\n",
      "[*********************100%***********************]  10 of 10 completed"
     ]
    },
    {
     "name": "stdout",
     "output_type": "stream",
     "text": [
      "Step 1: Loading environment variables...\n",
      "DEBUG: Data path is set to: ../data/raw/\n",
      "DEBUG: Script is running from: /Users/syonamehra/Documents/NYU Classes/MFE Bootcamp/Machine Learning Bootcamp In Person/bootcamp_syona_mehra/project/src\n",
      "Step 2: Creating data directory...\n",
      "SUCCESS: Directory created or already exists.\n",
      "Step 3: Downloading data...\n",
      "SUCCESS: Data downloaded.\n",
      "Step 4: Stacking and cleaning data...\n",
      "SUCCESS: Data stacked.\n",
      "Step 5: Saving data to CSV...\n",
      "DEBUG: Saving file to: ../data/raw/top10_historical_2025-08-24_14-18-17.csv\n",
      "SUCCESS: File saved!\n"
     ]
    },
    {
     "name": "stderr",
     "output_type": "stream",
     "text": [
      "\n",
      "/var/folders/q1/f1_13wdx2nj7w89w802rj1l40000gn/T/ipykernel_42105/2863369361.py:32: FutureWarning: The previous implementation of stack is deprecated and will be removed in a future version of pandas. See the What's New notes for pandas 2.1.0 for details. Specify future_stack=True to adopt the new implementation and silence this warning.\n",
      "  stacked_df = historical_data_multi.stack(level=1).reset_index().rename(columns={'level_1': 'Symbol'})\n"
     ]
    }
   ],
   "source": [
    "# Import necessary libraries\n",
    "import yfinance as yf\n",
    "import pandas as pd\n",
    "from datetime import datetime, timedelta\n",
    "from dotenv import load_dotenv\n",
    "import argparse, os, sys, json, hashlib\n",
    "from pathlib import Path\n",
    "\n",
    "print(\"Step 1: Loading environment variables...\")\n",
    "load_dotenv()\n",
    "data_path = os.getenv('DATA_PATH', '../data/raw/')\n",
    "stock_symbol = os.getenv('STOCK_SYMBOL', 'AAPL')\n",
    "print(f\"DEBUG: Data path is set to: {data_path}\")\n",
    "print(f\"DEBUG: Script is running from: {os.getcwd()}\")\n",
    "\n",
    "print(\"Step 2: Creating data directory...\")\n",
    "os.makedirs(data_path, exist_ok=True)\n",
    "print(\"SUCCESS: Directory created or already exists.\")\n",
    "\n",
    "top_stocks = ['AAPL', 'GOOGL', 'TSLA', 'MSFT', 'AMZN', 'NVDA', 'META', 'BRK-B', 'JPM', 'V']\n",
    "end_date = datetime.now().date()\n",
    "start_date = end_date - timedelta(days=5*365)\n",
    "\n",
    "print(\"Step 3: Downloading data...\")\n",
    "historical_data_multi = yf.download(tickers=top_stocks, start=start_date, end=end_date)\n",
    "print(\"SUCCESS: Data downloaded.\")\n",
    "\n",
    "if historical_data_multi.empty:\n",
    "    raise ValueError(f\"No historical data found. Check symbol or dates.\")\n",
    "    \n",
    "print(\"Step 4: Stacking and cleaning data...\")\n",
    "stacked_df = historical_data_multi.stack(level=1).reset_index().rename(columns={'level_1': 'Symbol'})\n",
    "print(\"SUCCESS: Data stacked.\")\n",
    "\n",
    "print(\"Step 5: Saving data to CSV...\")\n",
    "timestamp = datetime.now().strftime('%Y-%m-%d_%H-%M-%S')\n",
    "combined_filename = os.path.join(data_path, f\"top10_historical_{timestamp}.csv\")\n",
    "print(f\"DEBUG: Saving file to: {combined_filename}\")\n",
    "stacked_df.to_csv(combined_filename, index=False)\n",
    "print(\"SUCCESS: File saved!\")"
   ]
  },
  {
   "cell_type": "code",
   "execution_count": 3,
   "id": "ed0f15b2-a5c4-4f70-a9a4-c7d7e1bd268d",
   "metadata": {},
   "outputs": [
    {
     "name": "stdout",
     "output_type": "stream",
     "text": [
      "Separate files saved for each stock\n"
     ]
    }
   ],
   "source": [
    "# Save SEPARATE historical files\n",
    "for symbol in top_stocks:\n",
    "    single_hist = historical_data_multi.xs(symbol, level=1, axis=1)  # Extract per symbol (xs: cross-section)\n",
    "    # The .xs() method stands for cross-section. It's a powerful tool in pandas for selecting a specific slice of data from a DataFrame with a MultiIndex.\n",
    "    # symbol: This is the value you want to select. In the first loop, this will be 'AAPL'.\n",
    "    # level=1: This tells xs() to look for the value ('AAPL') in the second level of your MultiIndex columns. In your case, this is the 'Ticker' level.\n",
    "    # axis=1: This specifies that you are slicing across the columns, not the rows.\n",
    "    # The Result: This line extracts all the data for a single stock (e.g., all the 'Open', 'High', 'Low', 'Close', and 'Volume' columns) for a specific ticker and puts it into a new, smaller DataFrame named single_hist.\n",
    "    if single_hist.empty:\n",
    "        print(f\"Warning: Empty data for {symbol}\")\n",
    "        continue\n",
    "    hist_filename = os.path.join(data_path, f\"{symbol.lower()}_historical_{timestamp}.csv\")\n",
    "    single_hist.to_csv(hist_filename)\n",
    "\n",
    "# Print success\n",
    "print(\"Separate files saved for each stock\")"
   ]
  },
  {
   "cell_type": "markdown",
   "id": "93c7d72d-4680-4a14-8fad-c11b4e965a1e",
   "metadata": {},
   "source": [
    "Original Data format \n",
    "Columns on top of columns \n",
    "\n",
    "                 Open                          Close                        \n",
    "Symbol          AAPL    GOOGL    TSLA    ...     AAPL    GOOGL    TSLA  ...\n",
    "Date                                                                        \n",
    "2020-08-01    110.0    1470.0   1450.0          112.0    1480.0   1460.0\n",
    "2020-08-02    111.0    1485.0   1465.0          113.0    1490.0   1470.0\n",
    "...            ...       ...     ...            ...       ...     ...\n",
    "\n"
   ]
  },
  {
   "cell_type": "markdown",
   "id": "434e92e2-7a15-4d8b-b7c4-b242255f1184",
   "metadata": {},
   "source": [
    "✅ Now, what .stack(level=1) does:\n",
    "stacked_df = historical_data_multi.stack(level=1)\n",
    "📌 level=1 means squash the second header row (tickers) down into a new column.\n",
    "So instead of having “ticker names” as part of the column headers, we push them down as values inside the DataFrame.\n",
    "Result looks like this (simplified):\n",
    "Date        Symbol   Open    High    Low    Close    Adj Close   Volume\n",
    "2020-08-01   AAPL    110.0   ...     ...    112.0     112.0      100000\n",
    "2020-08-01   GOOGL  1470.0   ...     ...   1480.0    1480.0       50000\n",
    "2020-08-01   TSLA   1450.0   ...     ...   1460.0    1460.0       80000\n",
    "2020-08-02   AAPL    111.0   ...     ...    113.0     113.0      120000\n",
    "2020-08-02   GOOGL  1485.0   ...     ...   1490.0    1490.0       60000\n",
    "...\n",
    "👉 See what happened? Instead of one row with many tickers side by side, you now have multiple rows, one per ticker per day.\n",
    "That’s what we mean by “stacking.”"
   ]
  },
  {
   "cell_type": "code",
   "execution_count": null,
   "id": "de8ee290-2a4f-41da-b8b7-8a28e9b1eeeb",
   "metadata": {},
   "outputs": [],
   "source": []
  }
 ],
 "metadata": {
  "kernelspec": {
   "display_name": "Python [conda env:nyu-mfe-bootcamp]",
   "language": "python",
   "name": "conda-env-nyu-mfe-bootcamp-py"
  },
  "language_info": {
   "codemirror_mode": {
    "name": "ipython",
    "version": 3
   },
   "file_extension": ".py",
   "mimetype": "text/x-python",
   "name": "python",
   "nbconvert_exporter": "python",
   "pygments_lexer": "ipython3",
   "version": "3.13.5"
  }
 },
 "nbformat": 4,
 "nbformat_minor": 5
}
