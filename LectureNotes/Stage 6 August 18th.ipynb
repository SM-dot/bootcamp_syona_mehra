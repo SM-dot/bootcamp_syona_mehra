{
 "cells": [
  {
   "cell_type": "markdown",
   "id": "41fb7210-99e6-4d90-8c8c-78b5dfab7282",
   "metadata": {},
   "source": [
    "# August 18th Stage 6"
   ]
  },
  {
   "cell_type": "markdown",
   "id": "8d54b17c-6a59-4072-b0ed-026b31656284",
   "metadata": {},
   "source": [
    "## Stage 6: Comprehensive Data Preprocessing "
   ]
  },
  {
   "cell_type": "markdown",
   "id": "a308802a-840e-44eb-bace-c12b2857527f",
   "metadata": {},
   "source": [
    "- Deal with missing values \n",
    "- Not in the range we are looking to work in \n",
    "- Data types (type corrections)\n",
    "- Scaling/normalization (MinMax, StandardScale) - if one data point in thouands and another in decimal, if you took a distance between - the 2 points it would be heavily weighted. Thus you would be scaling it\n",
    "- Reusable functions \n"
   ]
  },
  {
   "cell_type": "code",
   "execution_count": 1,
   "id": "57154830-1070-4a71-b28f-2579d619c60a",
   "metadata": {},
   "outputs": [],
   "source": [
    "import os\n",
    "import pandas as pd "
   ]
  },
  {
   "cell_type": "code",
   "execution_count": 3,
   "id": "0716be8d-02c3-4b21-bdf8-ce26db75241a",
   "metadata": {},
   "outputs": [
    {
     "name": "stdout",
     "output_type": "stream",
     "text": [
      "Demo CSV created at data/instructor_dirty.csv\n"
     ]
    }
   ],
   "source": [
    "csv_path = 'data/instructor_dirty.csv'\n",
    "os.makedirs('data', exist_ok=True)\n",
    "\n",
    "if not os.path.exists(csv_path):\n",
    "    df_demo = pd.DataFrame({\n",
    "        'numeric_col': [10, None, 40, 55, 70],\n",
    "        'category_col': ['A', 'B', 'A', 'B', 'C'],\n",
    "        'price': ['$100', '$200', '$150', None, '$250'],\n",
    "        'date_str': ['2025-08-01','2025-08-02',None,'2025-08-04','2025-08-05'],\n",
    "        'category': ['Electronics','Furniture','Toys','Clothing',None]\n",
    "    })\n",
    "    df_demo.to_csv(csv_path, index=False)\n",
    "    print(f\"Demo CSV created at {csv_path}\")\n",
    "else:\n",
    "    print(f\"CSV already exists at {csv_path}\")"
   ]
  },
  {
   "cell_type": "markdown",
   "id": "90afcc8c-5e5e-4a60-9da7-e91c9084877c",
   "metadata": {},
   "source": [
    "Missing Data Handling:\n",
    "- MCAR: Missing completely at random - missing for no particular pattern or reason, if u wanna fill it avg of data points or drop it\n",
    "- MAR: Missing at Random -  based on some other column, not completely random \n",
    "- MNAR: Missing not at random\n",
    "Look at columns, is it because of that, what if we drop a column\n",
    "The first question is, is there a pattern? Is there a reason or completely at random "
   ]
  },
  {
   "cell_type": "code",
   "execution_count": 8,
   "id": "e8ab7092-4aa5-42de-b49e-93ba497ec3c1",
   "metadata": {},
   "outputs": [],
   "source": [
    "import pandas as pd #Imports the pandas library for data manipulation and analysis, aliasing it as pd.\n",
    "\n",
    "import numpy as np #Imports the NumPy library for numerical operations and array handling, aliasing it as np.\n",
    "\n",
    "import seaborn as sns #Imports the Seaborn library for creating statistical data visualizations, aliasing it as sns.\n",
    "\n",
    "import matplotlib.pyplot as plt #Imports the Matplotlib plotting module for creating static visualizations, aliasing it as plt.\n",
    "\n",
    "from sklearn.preprocessing import MinMaxScaler, StandardScaler #Imports MinMaxScaler and StandardScaler from Scikit-learn #to scale features to a specific range or standardize them, respectively.\n",
    "\n",
    "import missingno as msno #Imports the missingno library to visualize missing data patterns and relationships, aliasing it as msno."
   ]
  },
  {
   "cell_type": "markdown",
   "id": "ec3f66b6-e1d1-4172-8175-81e65a0fe920",
   "metadata": {},
   "source": [
    "No, it will not throw an error. When you import a function from a module, Python handles the dependencies for you. \n",
    "If the function you are importing from module_A internally uses another library, say module_B, \n",
    "you don't need to explicitly import module_B in your own script. Python's import system ensures that all \n",
    "necessary dependencies are loaded when module_A is imported, as long as module_B is installed in your environment.\n",
    "\n",
    "This is because the import x statement is executed at the time the function's module is imported or when the function \n",
    "itself is defined, not when you call it from your notebook. You only need to import the objects you directly reference \n",
    "in your own code."
   ]
  },
  {
   "cell_type": "code",
   "execution_count": 14,
   "id": "3134faac-4a0e-4a0d-895b-560caf98ea95",
   "metadata": {},
   "outputs": [
    {
     "data": {
      "text/plain": [
       "0    10.0\n",
       "1     NaN\n",
       "2    40.0\n",
       "3    55.0\n",
       "4    70.0\n",
       "Name: numeric_col, dtype: float64"
      ]
     },
     "execution_count": 14,
     "metadata": {},
     "output_type": "execute_result"
    }
   ],
   "source": [
    "df_demo[\"numeric_col\"] #this is a series not a data frame"
   ]
  },
  {
   "cell_type": "code",
   "execution_count": 18,
   "id": "8570ac97-f84f-47c0-b918-0a43747c66dd",
   "metadata": {},
   "outputs": [
    {
     "data": {
      "text/plain": [
       "5"
      ]
     },
     "execution_count": 18,
     "metadata": {},
     "output_type": "execute_result"
    }
   ],
   "source": [
    "df_demo.shape[0]\n",
    "df_demo.shape[1] # this will give u just (5, _) cause series not a df \n",
    "# convert to dataframe \n",
    "# dataframe(df_demo.shape[1]) -RECHECK"
   ]
  },
  {
   "cell_type": "code",
   "execution_count": 25,
   "id": "c0685d0c-fa3d-46ee-8b5e-ed47455b35e0",
   "metadata": {},
   "outputs": [
    {
     "data": {
      "text/plain": [
       "array([ True,  True,  True,  True,  True])"
      ]
     },
     "execution_count": 25,
     "metadata": {},
     "output_type": "execute_result"
    }
   ],
   "source": [
    "r = np.random.rand(len(df_demo))<1\n",
    "r"
   ]
  },
  {
   "cell_type": "markdown",
   "id": "3237155f-71b5-43f0-948b-5e1cab039e5e",
   "metadata": {},
   "source": [
    "Called MASKING - LOOK IT UP AND LEARN "
   ]
  },
  {
   "cell_type": "markdown",
   "id": "0bcfabb5-4260-4ea8-8a29-1a2c7c6744b9",
   "metadata": {},
   "source": [
    "Mask function - If it's true it's NaN"
   ]
  },
  {
   "cell_type": "markdown",
   "id": "07d7ac70-b45e-4985-8101-759517c8eff3",
   "metadata": {},
   "source": [
    "The `mask()` function in pandas is used to **conditionally replace values** in a DataFrame. It works by applying a boolean condition and replacing the values where that condition is `True`.\n",
    "\n",
    "### How it Works\n",
    "\n",
    "  * **Condition**: You provide a boolean DataFrame or Series of the same shape as your data. This acts like a filter.\n",
    "  * **Replacement**: The `mask()` function then iterates through your DataFrame. For every cell where the condition is `True`, it replaces the original value with a new one. By default, this replacement value is `NaN` (Not a Number), but you can specify any value or even a callable function.\n",
    "  * **Result**: The function returns a new DataFrame with the replaced values, leaving the original DataFrame unchanged unless you set the `inplace=True` parameter.\n",
    "\n",
    "### Mask() vs. Where()\n",
    "\n",
    "The `mask()` function is the **inverse** of the `where()` function.\n",
    "\n",
    "  * **`mask()`** replaces values where the condition is **`True`**.\n",
    "  * **`where()`** replaces values where the condition is **`False`**.\n",
    "\n",
    "Think of it this way: `mask()` \"hides\" or \"covers up\" the data that meets your criteria, while `where()` \"keeps\" or \"selects\" the data that meets your criteria.\n",
    "\n",
    "### Simple Example\n",
    "\n",
    "```python\n",
    "import pandas as pd\n",
    "\n",
    "df = pd.DataFrame({'A': [10, 20, 30], 'B': [15, 25, 35]})\n",
    "\n",
    "# Mask values greater than 20\n",
    "masked_df = df.mask(df > 20, 0)\n",
    "\n",
    "print(df)\n",
    "print(\"\\n\")\n",
    "print(masked_df)\n",
    "```\n",
    "\n",
    "**Output:**\n",
    "\n",
    "```\n",
    "   A   B\n",
    "0  10  15\n",
    "1  20  25\n",
    "2  30  35\n",
    "\n",
    "   A  B\n",
    "0  10 15\n",
    "1  20  0\n",
    "2  0   0\n",
    "```"
   ]
  },
  {
   "cell_type": "markdown",
   "id": "3df21eb1-796c-493a-a195-18f20460e207",
   "metadata": {},
   "source": [
    "for whatever values that were greater than 20 it reoolaced them with 0 "
   ]
  },
  {
   "cell_type": "markdown",
   "id": "a459ee60-4245-4811-a44b-80a707648782",
   "metadata": {},
   "source": [
    "FillNa - fills in the missing values \n",
    "ffill also available - forward fill "
   ]
  },
  {
   "cell_type": "code",
   "execution_count": null,
   "id": "e7974a72-7720-457b-b9ba-78067ec713cb",
   "metadata": {},
   "outputs": [],
   "source": []
  }
 ],
 "metadata": {
  "kernelspec": {
   "display_name": "Python [conda env:nyu-mfe-bootcamp]",
   "language": "python",
   "name": "conda-env-nyu-mfe-bootcamp-py"
  },
  "language_info": {
   "codemirror_mode": {
    "name": "ipython",
    "version": 3
   },
   "file_extension": ".py",
   "mimetype": "text/x-python",
   "name": "python",
   "nbconvert_exporter": "python",
   "pygments_lexer": "ipython3",
   "version": "3.13.5"
  }
 },
 "nbformat": 4,
 "nbformat_minor": 5
}
