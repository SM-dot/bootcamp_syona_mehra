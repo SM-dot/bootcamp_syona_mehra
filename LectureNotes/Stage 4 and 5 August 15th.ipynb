{
 "cells": [
  {
   "cell_type": "markdown",
   "id": "b802a35b-5222-4d97-9579-8067a0c2bf17",
   "metadata": {},
   "source": [
    "# Aug 15 Notes"
   ]
  },
  {
   "cell_type": "markdown",
   "id": "504c0c33-6d71-4b07-9ac2-4978649ece54",
   "metadata": {},
   "source": [
    "## Stage 04 - Data Acquisition and Ingestion\n",
    "Goals: API pull, scraping, secrets via .env, validation, saving to data/raw/"
   ]
  },
  {
   "cell_type": "code",
   "execution_count": 1,
   "id": "a2a76d84-406f-4ced-b036-d8e63384d7bb",
   "metadata": {},
   "outputs": [],
   "source": [
    "# API - Application Programmin Interface \n",
    "# a connection to grab and recieve data\n",
    "# sometimes the data, let' say an article posted changed the format of data - its not reusable and they dont realize others are using it \n",
    "# TOS - terms of service\n",
    "# Robots.txt - expectation, rate limit, not enforced \n",
    "# API is maintained, web page not maintained \n",
    "# more structured \n",
    "# timout\n",
    "# In header you send your details\n",
    "# "
   ]
  },
  {
   "cell_type": "code",
   "execution_count": 4,
   "id": "26a680bd-dee3-4781-af03-d3ff24cee353",
   "metadata": {},
   "outputs": [
    {
     "name": "stdout",
     "output_type": "stream",
     "text": [
      "Loaded ALPHAVANTAGE_API_KEY? True\n"
     ]
    }
   ],
   "source": [
    "import os, json, time, datetime as dt, csv, pathlib\n",
    "from typing import Dict, List\n",
    "import requests \n",
    "import pandas as pd\n",
    "from bs4 import BeautifulSoup\n",
    "from dotenv import load_dotenv\n",
    "\n",
    "DATA_RAW = pathlib.Path(\"data/raw\")\n",
    "DATA_RAW.mkdir(parents=True, exist_ok=True)\n",
    "\n",
    "load_dotenv()\n",
    "\n",
    "ALPHA_KEY = os.getenv(\"ALPHAVANTAGE_API_KEY\")\n",
    "print(\"Loaded ALPHAVANTAGE_API_KEY?\", bool(ALPHA_KEY))\n"
   ]
  },
  {
   "cell_type": "code",
   "execution_count": 13,
   "id": "307e1b31-04c0-45c9-bf55-09ea62e3e798",
   "metadata": {},
   "outputs": [
    {
     "data": {
      "text/plain": [
       "<function __main__.safe_stamp()>"
      ]
     },
     "execution_count": 13,
     "metadata": {},
     "output_type": "execute_result"
    }
   ],
   "source": [
    "# Timestamps \n",
    "def safe_stamp():\n",
    "    return dt.datatime.now().strftime(\"%Y%m%d-%H%M%S\") # give it to me in this format \n",
    "safe_stamp"
   ]
  },
  {
   "cell_type": "code",
   "execution_count": 14,
   "id": "4049b49a-cfc6-4ea4-bc3d-206bc999115c",
   "metadata": {},
   "outputs": [
    {
     "ename": "AttributeError",
     "evalue": "'builtin_function_or_method' object has no attribute 'strftime'",
     "output_type": "error",
     "traceback": [
      "\u001b[31m---------------------------------------------------------------------------\u001b[39m",
      "\u001b[31mAttributeError\u001b[39m                            Traceback (most recent call last)",
      "\u001b[36mCell\u001b[39m\u001b[36m \u001b[39m\u001b[32mIn[14]\u001b[39m\u001b[32m, line 2\u001b[39m\n\u001b[32m      1\u001b[39m \u001b[38;5;66;03m# tells us the current time\u001b[39;00m\n\u001b[32m----> \u001b[39m\u001b[32m2\u001b[39m \u001b[43mdt\u001b[49m\u001b[43m.\u001b[49m\u001b[43mdatetime\u001b[49m\u001b[43m.\u001b[49m\u001b[43mnow\u001b[49m\u001b[43m.\u001b[49m\u001b[43mstrftime\u001b[49m(\u001b[33m\"\u001b[39m\u001b[33m%\u001b[39m\u001b[33my-\u001b[39m\u001b[33m%\u001b[39m\u001b[33mm-\u001b[39m\u001b[38;5;132;01m%d\u001b[39;00m\u001b[33m\"\u001b[39m)\n",
      "\u001b[31mAttributeError\u001b[39m: 'builtin_function_or_method' object has no attribute 'strftime'"
     ]
    }
   ],
   "source": [
    "# tells us the current time\n",
    "dt.datetime.now.strftime(\"%y-%m-%d\")"
   ]
  },
  {
   "cell_type": "code",
   "execution_count": null,
   "id": "8a2db585-ad35-4d97-a277-79cc1c71734c",
   "metadata": {},
   "outputs": [],
   "source": [
    " # NOA - weather API\n",
    "# List comprehensions use optimised C ++ in background thus faster than regular for loops \n",
    "# entire ternary should come together if using else, only if can come at the back \n",
    "a = [c if c == 3 else 4 for c in dataset]\n",
    "b = [c for c in datatset if c == 3] # after this if we put else then error \n"
   ]
  }
 ],
 "metadata": {
  "kernelspec": {
   "display_name": "Python [conda env:nyu-mfe-bootcamp]",
   "language": "python",
   "name": "conda-env-nyu-mfe-bootcamp-py"
  },
  "language_info": {
   "codemirror_mode": {
    "name": "ipython",
    "version": 3
   },
   "file_extension": ".py",
   "mimetype": "text/x-python",
   "name": "python",
   "nbconvert_exporter": "python",
   "pygments_lexer": "ipython3",
   "version": "3.13.5"
  }
 },
 "nbformat": 4,
 "nbformat_minor": 5
}
