{
 "cells": [
  {
   "cell_type": "markdown",
   "id": "b802a35b-5222-4d97-9579-8067a0c2bf17",
   "metadata": {},
   "source": [
    "# Aug 15 Notes"
   ]
  },
  {
   "cell_type": "markdown",
   "id": "504c0c33-6d71-4b07-9ac2-4978649ece54",
   "metadata": {},
   "source": [
    "## Stage 04 - Data Acquisition and Ingestion\n",
    "Goals: API pull, scraping, secrets via .env, validation, saving to data/raw/"
   ]
  },
  {
   "cell_type": "code",
   "execution_count": 1,
   "id": "a2a76d84-406f-4ced-b036-d8e63384d7bb",
   "metadata": {},
   "outputs": [],
   "source": [
    "# API - Application Programmin Interface \n",
    "# a connection to grab and recieve data\n",
    "# sometimes the data, let' say an article posted changed the format of data - its not reusable and they dont realize others are using it \n",
    "# TOS - terms of service\n",
    "# Robots.txt - expectation, rate limit, not enforced \n",
    "# API is maintained, web page not maintained \n",
    "# more structured \n",
    "# timout\n",
    "# In header you send your details\n",
    "# "
   ]
  },
  {
   "cell_type": "code",
   "execution_count": 4,
   "id": "26a680bd-dee3-4781-af03-d3ff24cee353",
   "metadata": {},
   "outputs": [
    {
     "name": "stdout",
     "output_type": "stream",
     "text": [
      "Loaded ALPHAVANTAGE_API_KEY? True\n"
     ]
    }
   ],
   "source": [
    "import os, json, time, datetime as dt, csv, pathlib\n",
    "from typing import Dict, List\n",
    "import requests \n",
    "import pandas as pd\n",
    "from bs4 import BeautifulSoup\n",
    "from dotenv import load_dotenv\n",
    "\n",
    "DATA_RAW = pathlib.Path(\"data/raw\")\n",
    "DATA_RAW.mkdir(parents=True, exist_ok=True)\n",
    "\n",
    "load_dotenv()\n",
    "\n",
    "ALPHA_KEY = os.getenv(\"ALPHAVANTAGE_API_KEY\")\n",
    "print(\"Loaded ALPHAVANTAGE_API_KEY?\", bool(ALPHA_KEY))\n"
   ]
  },
  {
   "cell_type": "code",
   "execution_count": 13,
   "id": "307e1b31-04c0-45c9-bf55-09ea62e3e798",
   "metadata": {},
   "outputs": [
    {
     "data": {
      "text/plain": [
       "<function __main__.safe_stamp()>"
      ]
     },
     "execution_count": 13,
     "metadata": {},
     "output_type": "execute_result"
    }
   ],
   "source": [
    "# Timestamps \n",
    "def safe_stamp():\n",
    "    return dt.datatime.now().strftime(\"%Y%m%d-%H%M%S\") # give it to me in this format \n",
    "safe_stamp"
   ]
  },
  {
   "cell_type": "code",
   "execution_count": 14,
   "id": "4049b49a-cfc6-4ea4-bc3d-206bc999115c",
   "metadata": {},
   "outputs": [
    {
     "ename": "AttributeError",
     "evalue": "'builtin_function_or_method' object has no attribute 'strftime'",
     "output_type": "error",
     "traceback": [
      "\u001b[31m---------------------------------------------------------------------------\u001b[39m",
      "\u001b[31mAttributeError\u001b[39m                            Traceback (most recent call last)",
      "\u001b[36mCell\u001b[39m\u001b[36m \u001b[39m\u001b[32mIn[14]\u001b[39m\u001b[32m, line 2\u001b[39m\n\u001b[32m      1\u001b[39m \u001b[38;5;66;03m# tells us the current time\u001b[39;00m\n\u001b[32m----> \u001b[39m\u001b[32m2\u001b[39m \u001b[43mdt\u001b[49m\u001b[43m.\u001b[49m\u001b[43mdatetime\u001b[49m\u001b[43m.\u001b[49m\u001b[43mnow\u001b[49m\u001b[43m.\u001b[49m\u001b[43mstrftime\u001b[49m(\u001b[33m\"\u001b[39m\u001b[33m%\u001b[39m\u001b[33my-\u001b[39m\u001b[33m%\u001b[39m\u001b[33mm-\u001b[39m\u001b[38;5;132;01m%d\u001b[39;00m\u001b[33m\"\u001b[39m)\n",
      "\u001b[31mAttributeError\u001b[39m: 'builtin_function_or_method' object has no attribute 'strftime'"
     ]
    }
   ],
   "source": [
    "# tells us the current time\n",
    "dt.datetime.now.strftime(\"%y-%m-%d\")"
   ]
  },
  {
   "cell_type": "code",
   "execution_count": null,
   "id": "8a2db585-ad35-4d97-a277-79cc1c71734c",
   "metadata": {},
   "outputs": [],
   "source": [
    " # NOA - weather API\n",
    "# List comprehensions use optimised C ++ in background thus faster than regular for loops \n",
    "# entire ternary should come together if using else, only if can come at the back \n",
    "a = [c if c == 3 else 4 for c in dataset]\n",
    "b = [c for c in datatset if c == 3] # after this if we put else then error \n"
   ]
  },
  {
   "cell_type": "code",
   "execution_count": null,
   "id": "4a5ec881-b91b-4528-b72b-f9390347f5da",
   "metadata": {},
   "outputs": [],
   "source": [
    "# csv - raw data \n",
    "# parquet - processed"
   ]
  },
  {
   "cell_type": "markdown",
   "id": "67dc6d5a-7658-410d-8e3a-81d2da21a6d9",
   "metadata": {},
   "source": [
    "fillna()\n",
    "Purpose: fillna() specifically targets and replaces missing values (e.g., NaN, None). \n",
    "It's designed for imputation. You provide a value, method, or dictionary, and it fills in all the missing data points.\n",
    "\n",
    "Syntax Example:\n",
    "\n",
    "Python\n",
    "df.fillna(value=0) # Fills all NaN with 0\n",
    "df.fillna(method='ffill') # Fills NaN with the previous valid value\n",
    "mask()\n",
    "Purpose: mask() is a more general and flexible method. It replaces values based on a boolean condition you provide, whether the value is missing or not. It's the inverse of where(). You tell it what to \"hide\" or replace, and it does so.\n",
    "\n",
    "Syntax Example:\n",
    "\n",
    "Python\n",
    "df.mask(df > 50, 0) # Replaces all values greater than 50 with 0\n",
    "df.mask(df.isnull(), 0) # This is a roundabout way to do what fillna() does\n",
    "Key Differences\n",
    "Target: fillna() only works on NaN or missing values. mask() works on any value that meets a specified condition.\n",
    "\n",
    "Condition: fillna() implicitly uses the condition of \"is a missing value.\" mask() requires an explicit boolean condition (e.g., df > 50, df['column'] == 'bad data').\n",
    "\n",
    "Use Case: Use fillna() for imputation and general missing data cleaning. Use mask() for conditional replacement of any data that doesn't fit your criteria, including non-missing values."
   ]
  },
  {
   "cell_type": "markdown",
   "id": "f20d1bb3-74e6-4409-9eed-48add0d827b9",
   "metadata": {},
   "source": [
    "Both fillna() and mask() return a new DataFrame by default, leaving the original DataFrame unchanged.\n",
    "\n",
    "To modify the DataFrame in place (i.e., to make the changes persist on the original object), you must explicitly use the inplace=True argument."
   ]
  },
  {
   "cell_type": "markdown",
   "id": "ffdd950c-8f8f-4774-a584-f1a9fb85d999",
   "metadata": {},
   "source": [
    "Perfect 👍 let’s do it with **Pandas syntax** so it’s crystal clear.\n",
    "\n",
    "First, imagine your DataFrame has missing values:\n",
    "\n",
    "```python\n",
    "import pandas as pd\n",
    "\n",
    "data = {'toys': ['🐻', None, None, '🐱']}\n",
    "df = pd.DataFrame(data)\n",
    "print(df)\n",
    "```\n",
    "\n",
    "Output:\n",
    "\n",
    "```\n",
    "   toys\n",
    "0    🐻\n",
    "1  None\n",
    "2  None\n",
    "3    🐱\n",
    "```\n",
    "\n",
    "---\n",
    "\n",
    "### 1. **Forward Fill (copy from the left)**\n",
    "\n",
    "```python\n",
    "df['toys'].fillna(method='ffill', inplace=True)\n",
    "```\n",
    "\n",
    "Result:\n",
    "\n",
    "```\n",
    "0    🐻\n",
    "1    🐻\n",
    "2    🐻\n",
    "3    🐱\n",
    "```\n",
    "\n",
    "---\n",
    "\n",
    "### 2. **Back Fill (copy from the right)**\n",
    "\n",
    "```python\n",
    "df['toys'].fillna(method='bfill', inplace=True)\n",
    "```\n",
    "\n",
    "Result:\n",
    "\n",
    "```\n",
    "0    🐻\n",
    "1    🐱\n",
    "2    🐱\n",
    "3    🐱\n",
    "```\n",
    "\n",
    "---\n",
    "\n",
    "### 3. **Fill (with a fixed value)**\n",
    "\n",
    "```python\n",
    "df['toys'].fillna('🍎', inplace=True)\n",
    "```\n",
    "\n",
    "Result:\n",
    "\n",
    "```\n",
    "0    🐻\n",
    "1    🍎\n",
    "2    🍎\n",
    "3    🐱\n",
    "```\n",
    "\n",
    "---\n",
    "\n",
    "👉 So the syntax is:\n",
    "\n",
    "* `fillna(method='ffill')` → forward fill\n",
    "* `fillna(method='bfill')` → back fill\n",
    "* `fillna(value)` → fill with a constant\n",
    "\n",
    "Do you want me to also show you how this works on a **2D DataFrame (multiple columns)** with both forward and back fill?\n"
   ]
  },
  {
   "cell_type": "markdown",
   "id": "5d6ee3f2-1238-4932-a621-a3c341e819be",
   "metadata": {},
   "source": [
    "Got it 👍 let’s make this super simple — like you’re 5.\n",
    "\n",
    "Imagine you have a row of **empty boxes** (your DataFrame), but some boxes are missing toys (that’s your missing data, `NaN`).\n",
    "\n",
    "### 1. **Forward Fill (ffill)** 🏃‍♀️➡️\n",
    "\n",
    "Take the toy from the **previous box** and **copy it forward** into the empty one.\n",
    "\n",
    "Example:\n",
    "\n",
    "```\n",
    "Boxes:   [🐻,  ,  , 🐱]\n",
    "ffill → [🐻, 🐻, 🐻, 🐱]\n",
    "```\n",
    "\n",
    "### 2. **Back Fill (bfill)** ⬅️🏃‍♀️\n",
    "\n",
    "Take the toy from the **next box** and **copy it backward** into the empty one.\n",
    "\n",
    "Example:\n",
    "\n",
    "```\n",
    "Boxes:   [🐻,  ,  , 🐱]\n",
    "bfill → [🐻, 🐱, 🐱, 🐱]\n",
    "```\n",
    "\n",
    "### 3. **Fill (with a value)** 🎁\n",
    "\n",
    "Instead of borrowing from neighbors, you just **give every empty box the same toy** (a chosen value).\n",
    "\n",
    "Example (fill with 🍎):\n",
    "\n",
    "```\n",
    "Boxes:   [🐻,  ,  , 🐱]\n",
    "fill →  [🐻, 🍎, 🍎, 🐱]\n",
    "```\n",
    "\n",
    "---\n",
    "\n",
    "👉 So:\n",
    "\n",
    "* **Forward fill** = copy from the left.\n",
    "* **Back fill** = copy from the right.\n",
    "* **Fill** = put in a toy/value you decide.\n",
    "\n",
    "Do you want me to also show you how this looks in **Pandas code** with a toy-like example?\n",
    "\n",
    "\n",
    "ALL CREATE A NEW DATA FRAME, ORIGINAL NOT MODIFIED "
   ]
  },
  {
   "cell_type": "markdown",
   "id": "ced638fb-603a-40a6-90ac-19fdc27c2689",
   "metadata": {},
   "source": [
    "Direct access to change in the OG dataframe \n",
    "df.loc[2:3, 'price'] = 7\n",
    "in that column price from indexes 2 to 3 change it to 7 \n",
    "loc is direct access by row name and column name \n",
    "df['price'] = series \n",
    "0 234\n",
    "1 234\n",
    "not a df \n",
    "iloc - for index based \n",
    "for columns: \n",
    "df.columns \n",
    "for rows:\n",
    "df.index"
   ]
  }
 ],
 "metadata": {
  "kernelspec": {
   "display_name": "Python [conda env:nyu-mfe-bootcamp]",
   "language": "python",
   "name": "conda-env-nyu-mfe-bootcamp-py"
  },
  "language_info": {
   "codemirror_mode": {
    "name": "ipython",
    "version": 3
   },
   "file_extension": ".py",
   "mimetype": "text/x-python",
   "name": "python",
   "nbconvert_exporter": "python",
   "pygments_lexer": "ipython3",
   "version": "3.13.5"
  }
 },
 "nbformat": 4,
 "nbformat_minor": 5
}
