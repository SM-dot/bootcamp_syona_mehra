{
 "cells": [
  {
   "cell_type": "markdown",
   "id": "cb79a6b6-b486-4804-86be-5b50bdbef428",
   "metadata": {},
   "source": [
    "## Stage 3: Python Fundamentals"
   ]
  },
  {
   "cell_type": "markdown",
   "id": "54b563d5-e4ba-42c8-9b15-7577c45097c8",
   "metadata": {},
   "source": [
    "### NUMPY: NUMERICAL LOADING"
   ]
  },
  {
   "cell_type": "code",
   "execution_count": 1,
   "id": "b7a49f6f-7a6b-446c-8865-cae59165c510",
   "metadata": {},
   "outputs": [],
   "source": [
    "# NumPy - Python Library for numerical computing\n",
    "import numpy as np"
   ]
  },
  {
   "cell_type": "code",
   "execution_count": 2,
   "id": "1a3ba4e4-3608-4cd8-858e-585ab3e74d3d",
   "metadata": {},
   "outputs": [
    {
     "name": "stdout",
     "output_type": "stream",
     "text": [
      "[     0      1      2 ... 999997 999998 999999]\n"
     ]
    }
   ],
   "source": [
    "# SYNTAX FOR ARRANGE\n",
    "# np.arange(stop): This function generates an array of numbers starting from 0 and incrementing by 1,\n",
    "# up to (but not including) the stop value. It's a convenient, highly optimized way to create a sequential array.\n",
    "# numpy.arange([start, ]stop, [step, ]dtype=None, *, like=None)\n",
    "# SYNTAX FOR ARRAY\n",
    "# np.array([list]): This function takes an existing Python list or other array-like object and converts it into a NumPy\n",
    "# array. You have to manually type out all the elements.\n",
    "\n",
    "my_array = np.arange(1000000)\n",
    "print(my_array)"
   ]
  },
  {
   "cell_type": "code",
   "execution_count": 3,
   "id": "78b98cbf-30f2-4832-b01c-aa3ade8cbed1",
   "metadata": {},
   "outputs": [
    {
     "name": "stdout",
     "output_type": "stream",
     "text": [
      "[0 1 2 3 4]\n",
      "[2 3 4 5 6]\n",
      "[0 2 4 6 8]\n",
      "[1.  1.2 1.4 1.6 1.8]\n",
      "[0. 1. 2. 3. 4.]\n"
     ]
    }
   ],
   "source": [
    "# Only stop\n",
    "a = np.arange(5)\n",
    "# → [0 1 2 3 4]\n",
    "print(a)\n",
    "\n",
    "# Start and stop\n",
    "a = np.arange(2, 7)\n",
    "# → [2 3 4 5 6]\n",
    "print(a)\n",
    "\n",
    "# Start, stop, step\n",
    "a = np.arange(0, 10, 2)\n",
    "# → [0 2 4 6 8]\n",
    "print(a)\n",
    "\n",
    "# With float step\n",
    "a = np.arange(1.0, 2.0, 0.2)\n",
    "# → [1.  1.2  1.4  1.6  1.8]\n",
    "print(a)\n",
    "\n",
    "# With dtype\n",
    "a = np.arange(0, 5, dtype=float)\n",
    "# → [0. 1. 2. 3. 4.]\n",
    "print(a)"
   ]
  },
  {
   "cell_type": "code",
   "execution_count": 4,
   "id": "51e53f3b-542c-4a71-9e93-ef7ab9303633",
   "metadata": {},
   "outputs": [
    {
     "name": "stdout",
     "output_type": "stream",
     "text": [
      "ARRAY: \n",
      "[[ 0  1  2  3]\n",
      " [ 4  5  6  7]\n",
      " [ 8  9 10 11]]\n",
      "DIMENSIONS:  (3, 4)\n"
     ]
    }
   ],
   "source": [
    "# 1D → 2D (rows × cols)\n",
    "# USING RESHAPE FOR DIMENSIONS\n",
    "arr_2d = np.arange(12).reshape(3, 4) \n",
    "print(\"ARRAY: \")\n",
    "print(arr_2d)\n",
    "print(\"DIMENSIONS: \", arr_2d.shape)\n"
   ]
  },
  {
   "cell_type": "code",
   "execution_count": 5,
   "id": "749e0ece-895f-48a6-bdd8-03f212948ddb",
   "metadata": {},
   "outputs": [
    {
     "name": "stdout",
     "output_type": "stream",
     "text": [
      "[      0       2       4 ... 1999994 1999996 1999998]\n",
      "[[ 0  2  4  6]\n",
      " [ 8 10 12 14]\n",
      " [16 18 20 22]]\n"
     ]
    }
   ],
   "source": [
    "# VECTORIZATION\n",
    "# Multiplies every values in the array with 2\n",
    "vectorized_result = my_array * 2\n",
    "print(vectorized_result)\n",
    "arr_2d *= 2\n",
    "print(arr_2d)"
   ]
  },
  {
   "cell_type": "code",
   "execution_count": 6,
   "id": "0aabe370-f09a-4a79-8df3-b3849c119aa7",
   "metadata": {},
   "outputs": [],
   "source": [
    "# VECTORIZATION VS LOOPING\n",
    "# LOOPING IS MORE LENGTHY SYNTAX \n",
    "\n",
    "# Compare Performance: Use the %%timeit magic command in Jupyter to show the difference. \n",
    "# You will see the vectorized version is orders of magnitude faster.\n",
    "\n",
    "loop_result = []\n",
    "for x in my_array:\n",
    "    loop_result.append(x * 2)"
   ]
  },
  {
   "cell_type": "code",
   "execution_count": 7,
   "id": "d89afaca-48db-422d-9d1c-36eb3130ce77",
   "metadata": {},
   "outputs": [
    {
     "name": "stdout",
     "output_type": "stream",
     "text": [
      "562 μs ± 54.8 μs per loop (mean ± std. dev. of 7 runs, 1,000 loops each)\n"
     ]
    }
   ],
   "source": [
    "%%timeit\n",
    "my_array * 2"
   ]
  },
  {
   "cell_type": "code",
   "execution_count": 8,
   "id": "784f1bb2-46e7-44d8-b5fd-5e88f131d682",
   "metadata": {},
   "outputs": [
    {
     "name": "stdout",
     "output_type": "stream",
     "text": [
      "37 ms ± 627 μs per loop (mean ± std. dev. of 7 runs, 10 loops each)\n"
     ]
    }
   ],
   "source": [
    "%%timeit\n",
    "loop_result = [x * 2 for x in my_array]"
   ]
  },
  {
   "cell_type": "code",
   "execution_count": 9,
   "id": "3a8ac9b2-faaa-4768-ad5c-aaeedab2bca0",
   "metadata": {},
   "outputs": [],
   "source": [
    "### DATASET LOADING & MANIPULATION/DATA FRAMES: PANDAS "
   ]
  },
  {
   "cell_type": "code",
   "execution_count": 10,
   "id": "a1dc235f-96ee-4ca4-9b01-267536a805b8",
   "metadata": {},
   "outputs": [],
   "source": [
    "import pandas as pd"
   ]
  },
  {
   "cell_type": "code",
   "execution_count": 11,
   "id": "ebcd92f8-79e6-4ff1-a93a-1e6a5e6681bc",
   "metadata": {},
   "outputs": [],
   "source": [
    "df = pd.read_csv('../data/starter_data.csv')"
   ]
  },
  {
   "cell_type": "code",
   "execution_count": 12,
   "id": "ce24d679-2dcd-48ab-9277-e49dead401c4",
   "metadata": {},
   "outputs": [
    {
     "name": "stdout",
     "output_type": "stream",
     "text": [
      "   id category  value  profit   market_cap\n",
      "0   1     Tech   23.5     1.2  12000000000\n",
      "1   2  Finance   15.8    -0.5   8500000000\n",
      "2   3     Tech   45.2     3.1  15500000000\n",
      "3   4   Energy   10.1     0.2   4200000000\n",
      "4   5  Finance   12.7    -0.1   7800000000\n",
      "5   6     Tech   30.4     1.8  14300000000\n",
      "6   7   Energy   18.9     0.7   5100000000\n",
      "7   8     Tech   55.6     4.5  18800000000\n",
      "8   9  Finance   20.0     0.4   9200000000\n",
      "9  10   Energy    8.5    -0.3   3700000000\n"
     ]
    }
   ],
   "source": [
    "print(df)"
   ]
  },
  {
   "cell_type": "code",
   "execution_count": 13,
   "id": "1cdbfd59-32e5-485a-a2e5-53b40678e25e",
   "metadata": {},
   "outputs": [
    {
     "name": "stdout",
     "output_type": "stream",
     "text": [
      "<class 'pandas.core.frame.DataFrame'>\n",
      "RangeIndex: 10 entries, 0 to 9\n",
      "Data columns (total 5 columns):\n",
      " #   Column      Non-Null Count  Dtype  \n",
      "---  ------      --------------  -----  \n",
      " 0   id          10 non-null     int64  \n",
      " 1   category    10 non-null     object \n",
      " 2   value       10 non-null     float64\n",
      " 3   profit      10 non-null     float64\n",
      " 4   market_cap  10 non-null     int64  \n",
      "dtypes: float64(2), int64(2), object(1)\n",
      "memory usage: 532.0+ bytes\n"
     ]
    }
   ],
   "source": [
    "df.info()"
   ]
  },
  {
   "cell_type": "code",
   "execution_count": 14,
   "id": "63a33881-4861-4a40-9fa8-1fd67890799d",
   "metadata": {},
   "outputs": [
    {
     "data": {
      "text/html": [
       "<div>\n",
       "<style scoped>\n",
       "    .dataframe tbody tr th:only-of-type {\n",
       "        vertical-align: middle;\n",
       "    }\n",
       "\n",
       "    .dataframe tbody tr th {\n",
       "        vertical-align: top;\n",
       "    }\n",
       "\n",
       "    .dataframe thead th {\n",
       "        text-align: right;\n",
       "    }\n",
       "</style>\n",
       "<table border=\"1\" class=\"dataframe\">\n",
       "  <thead>\n",
       "    <tr style=\"text-align: right;\">\n",
       "      <th></th>\n",
       "      <th>id</th>\n",
       "      <th>category</th>\n",
       "      <th>value</th>\n",
       "      <th>profit</th>\n",
       "      <th>market_cap</th>\n",
       "    </tr>\n",
       "  </thead>\n",
       "  <tbody>\n",
       "    <tr>\n",
       "      <th>0</th>\n",
       "      <td>1</td>\n",
       "      <td>Tech</td>\n",
       "      <td>23.5</td>\n",
       "      <td>1.2</td>\n",
       "      <td>12000000000</td>\n",
       "    </tr>\n",
       "    <tr>\n",
       "      <th>1</th>\n",
       "      <td>2</td>\n",
       "      <td>Finance</td>\n",
       "      <td>15.8</td>\n",
       "      <td>-0.5</td>\n",
       "      <td>8500000000</td>\n",
       "    </tr>\n",
       "    <tr>\n",
       "      <th>2</th>\n",
       "      <td>3</td>\n",
       "      <td>Tech</td>\n",
       "      <td>45.2</td>\n",
       "      <td>3.1</td>\n",
       "      <td>15500000000</td>\n",
       "    </tr>\n",
       "    <tr>\n",
       "      <th>3</th>\n",
       "      <td>4</td>\n",
       "      <td>Energy</td>\n",
       "      <td>10.1</td>\n",
       "      <td>0.2</td>\n",
       "      <td>4200000000</td>\n",
       "    </tr>\n",
       "    <tr>\n",
       "      <th>4</th>\n",
       "      <td>5</td>\n",
       "      <td>Finance</td>\n",
       "      <td>12.7</td>\n",
       "      <td>-0.1</td>\n",
       "      <td>7800000000</td>\n",
       "    </tr>\n",
       "  </tbody>\n",
       "</table>\n",
       "</div>"
      ],
      "text/plain": [
       "   id category  value  profit   market_cap\n",
       "0   1     Tech   23.5     1.2  12000000000\n",
       "1   2  Finance   15.8    -0.5   8500000000\n",
       "2   3     Tech   45.2     3.1  15500000000\n",
       "3   4   Energy   10.1     0.2   4200000000\n",
       "4   5  Finance   12.7    -0.1   7800000000"
      ]
     },
     "execution_count": 14,
     "metadata": {},
     "output_type": "execute_result"
    }
   ],
   "source": [
    "df.head()"
   ]
  },
  {
   "cell_type": "markdown",
   "id": "0a1b243c-c8df-4688-a5e1-62245090a99f",
   "metadata": {},
   "source": [
    "### EXPLORATORY DATA ANALYSIS USING PANDAS AND NUMPY"
   ]
  },
  {
   "cell_type": "code",
   "execution_count": 15,
   "id": "298e280a-a0fe-43a0-8893-5094668fd49c",
   "metadata": {},
   "outputs": [
    {
     "name": "stdout",
     "output_type": "stream",
     "text": [
      "             id      value     profit    market_cap\n",
      "count  10.00000  10.000000  10.000000  1.000000e+01\n",
      "mean    5.50000  24.070000   1.100000  9.910000e+09\n",
      "std     3.02765  15.490359   1.615206  5.111740e+09\n",
      "min     1.00000   8.500000  -0.500000  3.700000e+09\n",
      "25%     3.25000  13.475000  -0.025000  5.775000e+09\n",
      "50%     5.50000  19.450000   0.550000  8.850000e+09\n",
      "75%     7.75000  28.675000   1.650000  1.372500e+10\n",
      "max    10.00000  55.600000   4.500000  1.880000e+10\n"
     ]
    }
   ],
   "source": [
    "# .describe() give you a quick look at the central tendency, dispersion, and shape of your data's distribution,\n",
    "# helping you spot potential issues like outliers or missing values\n",
    "summary_stats = df.describe()\n",
    "print(summary_stats)"
   ]
  },
  {
   "cell_type": "code",
   "execution_count": 16,
   "id": "f00b8098-6180-47c6-a01e-89539a6ba5b1",
   "metadata": {},
   "outputs": [
    {
     "name": "stdout",
     "output_type": "stream",
     "text": [
      "profit\n",
      "-0.5    8.500000e+09\n",
      "-0.3    3.700000e+09\n",
      "-0.1    7.800000e+09\n",
      " 0.2    4.200000e+09\n",
      " 0.4    9.200000e+09\n",
      " 0.7    5.100000e+09\n",
      " 1.2    1.200000e+10\n",
      " 1.8    1.430000e+10\n",
      " 3.1    1.550000e+10\n",
      " 4.5    1.880000e+10\n",
      "Name: market_cap, dtype: float64\n",
      "            profit    market_cap\n",
      "category                        \n",
      "Energy    0.200000  4.333333e+09\n",
      "Finance  -0.066667  8.500000e+09\n",
      "Tech      2.650000  1.515000e+10\n"
     ]
    }
   ],
   "source": [
    "\n",
    "# throws an error because there are strings in category column which cannot be used to compute mean\n",
    "# grouped_data = df.groupby('profit').mean()\n",
    "# print(grouped_data)\n",
    "\n",
    "# Group by 'profit', then calculate the mean of 'market_cap'\n",
    "grouped_data = df.groupby('profit')['market_cap'].mean()\n",
    "print(grouped_data)\n",
    "\n",
    "# OR, group by 'category' and calculate the mean of 'profit' and 'market_cap'\n",
    "grouped_data_by_category = df.groupby('category')[['profit', 'market_cap']].mean()\n",
    "print(grouped_data_by_category)"
   ]
  },
  {
   "cell_type": "code",
   "execution_count": 17,
   "id": "492ed46d-a42b-4d30-99df-6192df9779f2",
   "metadata": {},
   "outputs": [],
   "source": [
    "# First, make sure the directory exists\n",
    "import os\n",
    "os.makedirs('../data/processed', exist_ok=True)\n",
    "\n",
    "# Save the DataFrame to a CSV file\n",
    "summary_stats.to_csv('../data/processed/summary.csv')"
   ]
  },
  {
   "cell_type": "code",
   "execution_count": null,
   "id": "8e90227b-bf95-4786-899b-34769e71b45d",
   "metadata": {},
   "outputs": [],
   "source": []
  },
  {
   "cell_type": "code",
   "execution_count": null,
   "id": "db7c08c4-2df9-4ce3-b367-a08528f7db21",
   "metadata": {},
   "outputs": [],
   "source": []
  },
  {
   "cell_type": "code",
   "execution_count": 18,
   "id": "c7628c3f-835b-426e-a18a-5f63ce5b83dd",
   "metadata": {},
   "outputs": [
    {
     "data": {
      "image/png": "[encoded data removed]",
      "text/plain": [
       "<Figure size 640x480 with 1 Axes>"
      ]
     },
     "metadata": {},
     "output_type": "display_data"
    }
   ],
   "source": [
    "import matplotlib.pyplot as plt\n",
    "\n",
    "# Example plot\n",
    "df.plot(kind='hist')\n",
    "\n",
    "# Save the plot\n",
    "plt.savefig('../docs/summary_plot.png')"
   ]
  },
  {
   "cell_type": "code",
   "execution_count": null,
   "id": "9188ed50-3bef-46e4-bf76-b6048d42ec6c",
   "metadata": {},
   "outputs": [],
   "source": []
  },
  {
   "cell_type": "code",
   "execution_count": 19,
   "id": "97db8f57-ee90-413b-9dfc-e3b36c5d2560",
   "metadata": {},
   "outputs": [],
   "source": [
    "import sys # for interacting with the python interpreter\n",
    "import os # for creating directories "
   ]
  },
  {
   "cell_type": "code",
   "execution_count": 24,
   "id": "fbb07e3a-1f8c-4ab1-b25e-bb8151cc108a",
   "metadata": {},
   "outputs": [
    {
     "name": "stdout",
     "output_type": "stream",
     "text": [
      "UTILS & REUSABILITY - SANITY CHECK HERE\n"
     ]
    }
   ],
   "source": [
    "print(\"UTILS & REUSABILITY - SANITY CHECK HERE\")"
   ]
  },
  {
   "cell_type": "code",
   "execution_count": 25,
   "id": "5156aed0-5518-4fca-b64d-fc468cfcb2de",
   "metadata": {},
   "outputs": [],
   "source": [
    "# Getting the path to the parent directory (project root)\n",
    "project_root = os.path.abspath(os.path.join(os.getcwd(), '..'))\n",
    "\n",
    "# Adding the project root to the system path\n",
    "if project_root not in sys.path:\n",
    "    sys.path.append(project_root)\n",
    "\n",
    "# Now, imports from src should work - was thrwoing an error earlier - ASK TA \n",
    "from src.utils import get_summary_stats"
   ]
  },
  {
   "cell_type": "code",
   "execution_count": null,
   "id": "60f40b89-fd33-4d9d-9d56-58d9e588e84d",
   "metadata": {},
   "outputs": [],
   "source": []
  },
  {
   "cell_type": "code",
   "execution_count": null,
   "id": "09a8a8a0-3e76-4b21-b3ac-f0081a4883bd",
   "metadata": {},
   "outputs": [],
   "source": []
  },
  {
   "cell_type": "code",
   "execution_count": null,
   "id": "003326c1-1fc5-49df-81d6-e72e6fd2d59e",
   "metadata": {},
   "outputs": [],
   "source": []
  },
  {
   "cell_type": "code",
   "execution_count": 23,
   "id": "72662138-1e0d-4d28-9f6a-ae81668bada9",
   "metadata": {},
   "outputs": [
    {
     "name": "stdout",
     "output_type": "stream",
     "text": [
      "             id      value     profit    market_cap\n",
      "count  10.00000  10.000000  10.000000  1.000000e+01\n",
      "mean    5.50000  24.070000   1.100000  9.910000e+09\n",
      "std     3.02765  15.490359   1.615206  5.111740e+09\n",
      "min     1.00000   8.500000  -0.500000  3.700000e+09\n",
      "25%     3.25000  13.475000  -0.025000  5.775000e+09\n",
      "50%     5.50000  19.450000   0.550000  8.850000e+09\n",
      "75%     7.75000  28.675000   1.650000  1.372500e+10\n",
      "max    10.00000  55.600000   4.500000  1.880000e+10\n"
     ]
    }
   ],
   "source": [
    "summary_from_util = get_summary_stats(df)\n",
    "print(summary_from_util)"
   ]
  }
 ],
 "metadata": {
  "kernelspec": {
   "display_name": "Python [conda env:nyu-mfe-bootcamp]",
   "language": "python",
   "name": "conda-env-nyu-mfe-bootcamp-py"
  },
  "language_info": {
   "codemirror_mode": {
    "name": "ipython",
    "version": 3
   },
   "file_extension": ".py",
   "mimetype": "text/x-python",
   "name": "python",
   "nbconvert_exporter": "python",
   "pygments_lexer": "ipython3",
   "version": "3.13.5"
  }
 },
 "nbformat": 4,
 "nbformat_minor": 5
}
