{
 "cells": [
  {
   "cell_type": "markdown",
   "id": "cb79a6b6-b486-4804-86be-5b50bdbef428",
   "metadata": {},
   "source": [
    "## Stage 3: Python Fundamentals"
   ]
  },
  {
   "cell_type": "markdown",
   "id": "54b563d5-e4ba-42c8-9b15-7577c45097c8",
   "metadata": {},
   "source": [
    "### NUMPY: NUMERICAL LOADING"
   ]
  },
  {
   "cell_type": "code",
   "execution_count": 8,
   "id": "b7a49f6f-7a6b-446c-8865-cae59165c510",
   "metadata": {},
   "outputs": [
    {
     "name": "stdout",
     "output_type": "stream",
     "text": [
      "The history saving thread hit an unexpected error (OperationalError('attempt to write a readonly database')).History will not be written to the database.\n"
     ]
    }
   ],
   "source": [
    "# NumPy - Python Library for numerical computing\n",
    "import numpy as np"
   ]
  },
  {
   "cell_type": "code",
   "execution_count": 9,
   "id": "1a3ba4e4-3608-4cd8-858e-585ab3e74d3d",
   "metadata": {},
   "outputs": [
    {
     "name": "stdout",
     "output_type": "stream",
     "text": [
      "[     0      1      2 ... 999997 999998 999999]\n"
     ]
    }
   ],
   "source": [
    "# SYNTAX FOR ARRANGE\n",
    "# np.arange(stop): This function generates an array of numbers starting from 0 and incrementing by 1,\n",
    "# up to (but not including) the stop value. It's a convenient, highly optimized way to create a sequential array.\n",
    "# numpy.arange([start, ]stop, [step, ]dtype=None, *, like=None)\n",
    "# SYNTAX FOR ARRAY\n",
    "# np.array([list]): This function takes an existing Python list or other array-like object and converts it into a NumPy\n",
    "# array. You have to manually type out all the elements.\n",
    "\n",
    "my_array = np.arange(1000000)\n",
    "print(my_array)"
   ]
  },
  {
   "cell_type": "code",
   "execution_count": 10,
   "id": "78b98cbf-30f2-4832-b01c-aa3ade8cbed1",
   "metadata": {},
   "outputs": [
    {
     "name": "stdout",
     "output_type": "stream",
     "text": [
      "[0 1 2 3 4]\n",
      "[2 3 4 5 6]\n",
      "[0 2 4 6 8]\n",
      "[1.  1.2 1.4 1.6 1.8]\n",
      "[0. 1. 2. 3. 4.]\n"
     ]
    }
   ],
   "source": [
    "# Only stop\n",
    "a = np.arange(5)\n",
    "# → [0 1 2 3 4]\n",
    "print(a)\n",
    "\n",
    "# Start and stop\n",
    "a = np.arange(2, 7)\n",
    "# → [2 3 4 5 6]\n",
    "print(a)\n",
    "\n",
    "# Start, stop, step\n",
    "a = np.arange(0, 10, 2)\n",
    "# → [0 2 4 6 8]\n",
    "print(a)\n",
    "\n",
    "# With float step\n",
    "a = np.arange(1.0, 2.0, 0.2)\n",
    "# → [1.  1.2  1.4  1.6  1.8]\n",
    "print(a)\n",
    "\n",
    "# With dtype\n",
    "a = np.arange(0, 5, dtype=float)\n",
    "# → [0. 1. 2. 3. 4.]\n",
    "print(a)"
   ]
  },
  {
   "cell_type": "code",
   "execution_count": 11,
   "id": "51e53f3b-542c-4a71-9e93-ef7ab9303633",
   "metadata": {},
   "outputs": [
    {
     "name": "stdout",
     "output_type": "stream",
     "text": [
      "ARRAY: \n",
      "[[ 0  1  2  3]\n",
      " [ 4  5  6  7]\n",
      " [ 8  9 10 11]]\n",
      "DIMENSIONS:  (3, 4)\n"
     ]
    }
   ],
   "source": [
    "# 1D → 2D (rows × cols)\n",
    "# USING RESHAPE FOR DIMENSIONS\n",
    "arr_2d = np.arange(12).reshape(3, 4) \n",
    "print(\"ARRAY: \")\n",
    "print(arr_2d)\n",
    "print(\"DIMENSIONS: \", arr_2d.shape)\n"
   ]
  },
  {
   "cell_type": "code",
   "execution_count": 12,
   "id": "749e0ece-895f-48a6-bdd8-03f212948ddb",
   "metadata": {},
   "outputs": [
    {
     "name": "stdout",
     "output_type": "stream",
     "text": [
      "[      0       2       4 ... 1999994 1999996 1999998]\n",
      "[[ 0  2  4  6]\n",
      " [ 8 10 12 14]\n",
      " [16 18 20 22]]\n"
     ]
    }
   ],
   "source": [
    "# VECTORIZATION\n",
    "# Multiplies every values in the array with 2\n",
    "vectorized_result = my_array * 2\n",
    "print(vectorized_result)\n",
    "arr_2d *= 2\n",
    "print(arr_2d)"
   ]
  },
  {
   "cell_type": "code",
   "execution_count": 13,
   "id": "0aabe370-f09a-4a79-8df3-b3849c119aa7",
   "metadata": {},
   "outputs": [],
   "source": [
    "# VECTORIZATION VS LOOPING\n",
    "# LOOPING IS MORE LENGTHY SYNTAX \n",
    "\n",
    "# Compare Performance: Use the %%timeit magic command in Jupyter to show the difference. \n",
    "# You will see the vectorized version is orders of magnitude faster.\n",
    "\n",
    "loop_result = []\n",
    "for x in my_array:\n",
    "    loop_result.append(x * 2)"
   ]
  },
  {
   "cell_type": "code",
   "execution_count": 14,
   "id": "d89afaca-48db-422d-9d1c-36eb3130ce77",
   "metadata": {},
   "outputs": [
    {
     "name": "stdout",
     "output_type": "stream",
     "text": [
      "507 μs ± 24.5 μs per loop (mean ± std. dev. of 7 runs, 1,000 loops each)\n"
     ]
    }
   ],
   "source": [
    "%%timeit\n",
    "my_array * 2"
   ]
  },
  {
   "cell_type": "code",
   "execution_count": 15,
   "id": "784f1bb2-46e7-44d8-b5fd-5e88f131d682",
   "metadata": {},
   "outputs": [
    {
     "name": "stdout",
     "output_type": "stream",
     "text": [
      "36.6 ms ± 253 μs per loop (mean ± std. dev. of 7 runs, 10 loops each)\n"
     ]
    }
   ],
   "source": [
    "%%timeit\n",
    "loop_result = [x * 2 for x in my_array]"
   ]
  },
  {
   "cell_type": "code",
   "execution_count": 16,
   "id": "3a8ac9b2-faaa-4768-ad5c-aaeedab2bca0",
   "metadata": {},
   "outputs": [],
   "source": [
    "### DATASET LOADING & MANIPULATION/DATA FRAMES: PANDAS "
   ]
  },
  {
   "cell_type": "code",
   "execution_count": 17,
   "id": "a1dc235f-96ee-4ca4-9b01-267536a805b8",
   "metadata": {},
   "outputs": [],
   "source": [
    "import pandas as pd"
   ]
  },
  {
   "cell_type": "code",
   "execution_count": 18,
   "id": "ebcd92f8-79e6-4ff1-a93a-1e6a5e6681bc",
   "metadata": {},
   "outputs": [],
   "source": [
    "df = pd.read_csv('../data/starter_data.csv')"
   ]
  },
  {
   "cell_type": "code",
   "execution_count": 19,
   "id": "ce24d679-2dcd-48ab-9277-e49dead401c4",
   "metadata": {},
   "outputs": [
    {
     "name": "stdout",
     "output_type": "stream",
     "text": [
      "   id category  value  profit   market_cap\n",
      "0   1     Tech   23.5     1.2  12000000000\n",
      "1   2  Finance   15.8    -0.5   8500000000\n",
      "2   3     Tech   45.2     3.1  15500000000\n",
      "3   4   Energy   10.1     0.2   4200000000\n",
      "4   5  Finance   12.7    -0.1   7800000000\n",
      "5   6     Tech   30.4     1.8  14300000000\n",
      "6   7   Energy   18.9     0.7   5100000000\n",
      "7   8     Tech   55.6     4.5  18800000000\n",
      "8   9  Finance   20.0     0.4   9200000000\n",
      "9  10   Energy    8.5    -0.3   3700000000\n"
     ]
    }
   ],
   "source": [
    "print(df)"
   ]
  },
  {
   "cell_type": "code",
   "execution_count": 20,
   "id": "1cdbfd59-32e5-485a-a2e5-53b40678e25e",
   "metadata": {},
   "outputs": [
    {
     "name": "stdout",
     "output_type": "stream",
     "text": [
      "<class 'pandas.core.frame.DataFrame'>\n",
      "RangeIndex: 10 entries, 0 to 9\n",
      "Data columns (total 5 columns):\n",
      " #   Column      Non-Null Count  Dtype  \n",
      "---  ------      --------------  -----  \n",
      " 0   id          10 non-null     int64  \n",
      " 1   category    10 non-null     object \n",
      " 2   value       10 non-null     float64\n",
      " 3   profit      10 non-null     float64\n",
      " 4   market_cap  10 non-null     int64  \n",
      "dtypes: float64(2), int64(2), object(1)\n",
      "memory usage: 532.0+ bytes\n"
     ]
    }
   ],
   "source": [
    "df.info()"
   ]
  },
  {
   "cell_type": "code",
   "execution_count": 7,
   "id": "63a33881-4861-4a40-9fa8-1fd67890799d",
   "metadata": {},
   "outputs": [
    {
     "data": {
      "text/html": [
       "<div>\n",
       "<style scoped>\n",
       "    .dataframe tbody tr th:only-of-type {\n",
       "        vertical-align: middle;\n",
       "    }\n",
       "\n",
       "    .dataframe tbody tr th {\n",
       "        vertical-align: top;\n",
       "    }\n",
       "\n",
       "    .dataframe thead th {\n",
       "        text-align: right;\n",
       "    }\n",
       "</style>\n",
       "<table border=\"1\" class=\"dataframe\">\n",
       "  <thead>\n",
       "    <tr style=\"text-align: right;\">\n",
       "      <th></th>\n",
       "      <th>id</th>\n",
       "      <th>category</th>\n",
       "      <th>value</th>\n",
       "      <th>profit</th>\n",
       "      <th>market_cap</th>\n",
       "    </tr>\n",
       "  </thead>\n",
       "  <tbody>\n",
       "    <tr>\n",
       "      <th>0</th>\n",
       "      <td>1</td>\n",
       "      <td>Tech</td>\n",
       "      <td>23.5</td>\n",
       "      <td>1.2</td>\n",
       "      <td>12000000000</td>\n",
       "    </tr>\n",
       "    <tr>\n",
       "      <th>1</th>\n",
       "      <td>2</td>\n",
       "      <td>Finance</td>\n",
       "      <td>15.8</td>\n",
       "      <td>-0.5</td>\n",
       "      <td>8500000000</td>\n",
       "    </tr>\n",
       "    <tr>\n",
       "      <th>2</th>\n",
       "      <td>3</td>\n",
       "      <td>Tech</td>\n",
       "      <td>45.2</td>\n",
       "      <td>3.1</td>\n",
       "      <td>15500000000</td>\n",
       "    </tr>\n",
       "    <tr>\n",
       "      <th>3</th>\n",
       "      <td>4</td>\n",
       "      <td>Energy</td>\n",
       "      <td>10.1</td>\n",
       "      <td>0.2</td>\n",
       "      <td>4200000000</td>\n",
       "    </tr>\n",
       "    <tr>\n",
       "      <th>4</th>\n",
       "      <td>5</td>\n",
       "      <td>Finance</td>\n",
       "      <td>12.7</td>\n",
       "      <td>-0.1</td>\n",
       "      <td>7800000000</td>\n",
       "    </tr>\n",
       "  </tbody>\n",
       "</table>\n",
       "</div>"
      ],
      "text/plain": [
       "   id category  value  profit   market_cap\n",
       "0   1     Tech   23.5     1.2  12000000000\n",
       "1   2  Finance   15.8    -0.5   8500000000\n",
       "2   3     Tech   45.2     3.1  15500000000\n",
       "3   4   Energy   10.1     0.2   4200000000\n",
       "4   5  Finance   12.7    -0.1   7800000000"
      ]
     },
     "execution_count": 7,
     "metadata": {},
     "output_type": "execute_result"
    }
   ],
   "source": [
    "df.head()"
   ]
  },
  {
   "cell_type": "markdown",
   "id": "0a1b243c-c8df-4688-a5e1-62245090a99f",
   "metadata": {},
   "source": [
    "### EXPLORATORY DATA ANALYSIS USING PANDAS AND NUMPY"
   ]
  },
  {
   "cell_type": "code",
   "execution_count": null,
   "id": "298e280a-a0fe-43a0-8893-5094668fd49c",
   "metadata": {},
   "outputs": [],
   "source": [
    "# .describe() give you a quick look at the central tendency, dispersion, and shape of your data's distribution,\n",
    "# helping you spot potential issues like outliers or missing values\n",
    "summary_stats = df.describe()"
   ]
  }
 ],
 "metadata": {
  "kernelspec": {
   "display_name": "Python [conda env:nyu-mfe-bootcamp]",
   "language": "python",
   "name": "conda-env-nyu-mfe-bootcamp-py"
  },
  "language_info": {
   "codemirror_mode": {
    "name": "ipython",
    "version": 3
   },
   "file_extension": ".py",
   "mimetype": "text/x-python",
   "name": "python",
   "nbconvert_exporter": "python",
   "pygments_lexer": "ipython3",
   "version": "3.13.5"
  }
 },
 "nbformat": 4,
 "nbformat_minor": 5
}
